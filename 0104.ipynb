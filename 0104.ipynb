{
 "cells": [
  {
   "cell_type": "code",
   "execution_count": 18,
   "metadata": {},
   "outputs": [
    {
     "name": "stdout",
     "output_type": "stream",
     "text": [
      "dict_keys(['banana', 'apple'])\n",
      "dict_values([1, 1])\n"
     ]
    }
   ],
   "source": [
    "list('abc') \n",
    "a=['1','2','3'] # 대괄호 순서 有\n",
    "a.append('4')\n",
    "a.append('5')\n",
    "\n",
    "B=('a','b','c') # 소괄호 변경 X\n",
    "\n",
    "fruits={'banana':1,'apple':1} # dict \n",
    "a=list(map(int,a))\n",
    "\n",
    "print(fruits.keys())\n",
    "print(fruits.values()) #key 앞 / values 뒤"
   ]
  },
  {
   "cell_type": "code",
   "execution_count": 25,
   "metadata": {},
   "outputs": [
    {
     "name": "stdout",
     "output_type": "stream",
     "text": [
      "22.25\n",
      "{'카리나': 20, '윈터': 22, '김채원': 23}\n",
      "{'카리나': 20, '윈터': 22, '김채원': 23, '해린': 21}\n",
      "페이커 없음\n"
     ]
    }
   ],
   "source": [
    "idols={'카리나':20,'윈터':22,'김채원':23,'하니':24}\n",
    "\n",
    "key_list=idols.keys() #키 리스트\n",
    "value_list=idols.values() #값 리스트\n",
    "\n",
    "sum=0\n",
    "for i in value_list:\n",
    "  sum+=i\n",
    " \n",
    "print(sum/len(value_list)) #평균출력\n",
    "\n",
    "\n",
    "old_name = max(idols ,key = idols.get)\n",
    "del(idols[old_name])\n",
    "\n",
    "print(idols)\n",
    "idols['해린']=21\n",
    "print(idols)\n",
    "\n",
    "\n",
    "if 'faker' in idols:\n",
    "  print(\"페이커 존재\")\n",
    "else :\n",
    "  print(\"페이커 없음\")"
   ]
  },
  {
   "cell_type": "code",
   "execution_count": 28,
   "metadata": {},
   "outputs": [
    {
     "name": "stdout",
     "output_type": "stream",
     "text": [
      "4\n"
     ]
    }
   ],
   "source": [
    "list_origin=input(\"n과 m, 그리고 문자열, 각 개체의 구분은 space bar를 눌러 구분\")\n",
    "\n",
    "list_origin=list_origin.split() # 입력을 split 함\n",
    "\n",
    "N=int(list_origin[0]) # N과 M을 변수에 저장\n",
    "M=int(list_origin[1])\n",
    "\n",
    "S=[] # 집합 S를 리스트로 선언\n",
    "\n",
    "for n in range(N): # n개만큼의 문자열을 원본 리스트에서 S로 저장\n",
    "  S.append(list_origin[n+2])\n",
    "\n",
    "result_=0 # 정답 넣을 곳\n",
    "\n",
    "for m in range(N+2,M+N+2): # M개의 문자열만큼 반복\n",
    "  for n in range(N): #S[n]을 훑기\n",
    "    if list_origin[m]==S[n]: #원본중에 s와 같은게 있다면 \n",
    "      result_+=1 #결과+1\n",
    "      \n",
    "print(result_)"
   ]
  },
  {
   "cell_type": "code",
   "execution_count": 37,
   "metadata": {},
   "outputs": [
    {
     "name": "stdout",
     "output_type": "stream",
     "text": [
      "11\n"
     ]
    }
   ],
   "source": [
    "N, M = map(int, input().split())  \n",
    "S = set()  #리스트 <<< set 속도\n",
    "for i in range(N):\n",
    "    S.add(input())\n",
    "ans = 0\n",
    "for _ in range(M):\n",
    "    t = input()\n",
    "    if t in S:\n",
    "        ans+=1\n",
    "print(ans)"
   ]
  },
  {
   "cell_type": "code",
   "execution_count": 52,
   "metadata": {},
   "outputs": [
    {
     "name": "stdout",
     "output_type": "stream",
     "text": [
      "['a', 'f', '+', '0', 'i', 'e', '2', 'h', '%', 'b', 'g', 'c', 'd', '4']\n",
      "af+0ie2h%bgcd4\n"
     ]
    }
   ],
   "source": [
    "import random\n",
    "\n",
    "#a = ['a','b','c']\n",
    "#random.shuffle(a)\n",
    "\n",
    "lower_alphabets = ['a', 'b', 'c', 'd', 'e', 'f', 'g', 'h', 'i', 'j', 'k', 'l', 'm', 'n', 'o', 'p', 'q', 'r', 's', 't', 'u', 'v', 'w', 'x', 'y', 'z']\n",
    "upper_alphabets=[char.upper()for char in lower_alphabets]\n",
    "combined_alp=lower_alphabets+upper_alphabets\n",
    "symbols = ['!', '#', '$', '%', '&', '(', ')', '*', '+']\n",
    "numbers = ['1','2','3','4','5','6','7','8','9','0']\n",
    "\n",
    "num_of_alphabets = 9\n",
    "num_of_numbers = 3\n",
    "num_of_symbols = 2\n",
    "random.shuffle(combined_alp)\n",
    "random.shuffle(numbers)\n",
    "random.shuffle(symbols)\n",
    "\n",
    "PW_English=lower_alphabets[0:9]\n",
    "PW_Number=numbers[0:3]\n",
    "PW_symbols=symbols[0:2]\n",
    "PW=PW_English+PW_Number+PW_symbols\n",
    "random.shuffle(PW)\n",
    "print(PW)\n",
    "print(''.join(PW)) #join 사이사이에 "
   ]
  },
  {
   "cell_type": "code",
   "execution_count": 56,
   "metadata": {},
   "outputs": [
    {
     "name": "stdout",
     "output_type": "stream",
     "text": [
      "3\n"
     ]
    }
   ],
   "source": [
    "a='strawberry moon'\n",
    "b=0\n",
    "for i in a:\n",
    "  if i=='r':\n",
    "    b+=1\n",
    "    \n",
    "print(b) #변수명 생활화 하기\n",
    "  "
   ]
  },
  {
   "cell_type": "code",
   "execution_count": 58,
   "metadata": {},
   "outputs": [
    {
     "name": "stdout",
     "output_type": "stream",
     "text": [
      "3 4\n"
     ]
    }
   ],
   "source": [
    "a=3 #argument 인수\n",
    "b=4\n",
    "\n",
    "def myfunction(x,y): #parameter 인자\n",
    "  print(x,y)\n",
    "  \n",
    "myfunction(3,4) #인수"
   ]
  },
  {
   "cell_type": "code",
   "execution_count": 63,
   "metadata": {},
   "outputs": [
    {
     "name": "stdout",
     "output_type": "stream",
     "text": [
      "25\n"
     ]
    }
   ],
   "source": [
    "x=4\n",
    "\n",
    "def function(p):\n",
    "  answer=(p*p)+(2*p)+1\n",
    "  return(answer)\n",
    "\n",
    "print(function(x))\n"
   ]
  },
  {
   "cell_type": "code",
   "execution_count": null,
   "metadata": {},
   "outputs": [],
   "source": [
    "vending_machine=['게토레이','게토레이','레쓰비','생수','이프로','레쓰비','생수','생수']\n",
    "\n",
    "user=2 #0과 1이 아닌걸로 초기화\n",
    "\n",
    "user=int(input(\"소비자이면 1, 자판기 주인인 경우 0을 눌러주세요\"))\n",
    "\n",
    "while (user!=0)&(user!=1):\n",
    " user=int(input(\"1과 0 중 다시입력해주세요\"))\n",
    "\n",
    "\n",
    "if (user&1): #소비자\n",
    "  order=input(\"마시고 싶은 음료를 입력하세요\")\n",
    "  if order in vending_machine:\n",
    "    vending_machine.remove(order)\n",
    "    print(f\"{order} 드릴게요\")\n",
    "  else :\n",
    "    print(f\"{order}는 지금 없습니다.\")\n",
    "  \n",
    "else :\n",
    "  master=int(input(\"추가하시고 싶으면 1, 삭제하시고 싶으시면 0을 눌러주세요\")) # 자판기 주인\n",
    "\n",
    "\n",
    "  while (master!=0)&(master!=1):\n",
    "    master=int(input(\"1과 0 중 다시입력해주세요\"))\n",
    "\n",
    "\n",
    "  if (master&1): #음료 추가\n",
    "    add=input(\"추가할 음료수를 적어주세요\")\n",
    "    vending_machine.append(add) #음료 추가\n",
    "    vending_machine.sort() #정렬?\n",
    "    print(vending_machine)\n",
    "  else : #음료 삭제\n",
    "    delete=input(\"삭제할 음료수를 적어주세요\")\n",
    "    if delete in vending_machine: #존재하면\n",
    "      vending_machine.remove(delete)\n",
    "      print(vending_machine)\n",
    "\n",
    "    else:\n",
    "      print(f\"{delete}는 지금 없습니다.\")\n",
    "\n"
   ]
  },
  {
   "cell_type": "code",
   "execution_count": 75,
   "metadata": {},
   "outputs": [
    {
     "name": "stdout",
     "output_type": "stream",
     "text": [
      "남은 음료는 아래과 같습니다. ['게토레이', '게토레이', '레쓰비', '생수', '이프로', '레쓰비', '생수', '생수']\n",
      "남은 음료는 아래과 같습니다. ['게토레이', '게토레이', '레쓰비', '이프로', '레쓰비', '생수', '생수']\n"
     ]
    }
   ],
   "source": [
    "vending_machine=['게토레이','게토레이','레쓰비','생수','이프로','레쓰비','생수','생수']\n",
    "\n",
    "\n",
    "def check_machine():\n",
    "  if len(vending_machine)==0:\n",
    "    print(\"음료가 남아있지 않습니다.\")\n",
    "  else:\n",
    "    print(\"남은 음료는 아래과 같습니다.\\n\",vending_machine)\n",
    "  \n",
    "check_machine()\n",
    "\n",
    "def is_drink():\n",
    "  \n",
    "  order=input(\"마실 음료를 입력해주세요\")\n",
    "  if order in vending_machine: \n",
    "    vending_machine.remove(order)\n",
    "    print(f\"{order} 드릴게요\")\n",
    "  else :\n",
    "    print(f\"{order}는 지금 없습니다.\")\n",
    "\n",
    "is_drink()\n",
    "\n",
    "def add_drink():\n",
    "  add=input(\"추가할 음료수를 적어주세요\")\n",
    "  vending_machine.append(add) #음료 추가\n",
    "  vending_machine.sort() #정렬?\n",
    "  check_machine()\n",
    "  \n",
    "add_drink()\n",
    "\n",
    "def remove_drink():\n",
    "  \n",
    "    delete=input(\"삭제할 음료수를 적어주세요\")\n",
    "    if delete in vending_machine: #존재하면\n",
    "      vending_machine.remove(delete)\n",
    "      check_machine()\n",
    "\n",
    "    else:\n",
    "      print(f\"{delete}는 지금 없습니다.\")\n",
    "    \n",
    "remove_drink()\n",
    "  \n",
    "\n"
   ]
  },
  {
   "cell_type": "code",
   "execution_count": 113,
   "metadata": {},
   "outputs": [
    {
     "name": "stdout",
     "output_type": "stream",
     "text": [
      "['1']\n"
     ]
    },
    {
     "ename": "IndexError",
     "evalue": "list index out of range",
     "output_type": "error",
     "traceback": [
      "\u001b[1;31m---------------------------------------------------------------------------\u001b[0m",
      "\u001b[1;31mIndexError\u001b[0m                                Traceback (most recent call last)",
      "Cell \u001b[1;32mIn[113], line 62\u001b[0m\n\u001b[0;32m     59\u001b[0m order\u001b[38;5;241m.\u001b[39mappend(a[\u001b[38;5;241m0\u001b[39m])\n\u001b[0;32m     61\u001b[0m \u001b[38;5;28;01mif\u001b[39;00m order[i]\u001b[38;5;241m==\u001b[39m\u001b[38;5;124m\"\u001b[39m\u001b[38;5;124mpush\u001b[39m\u001b[38;5;124m\"\u001b[39m:\n\u001b[1;32m---> 62\u001b[0m   order\u001b[38;5;241m.\u001b[39mappend(a[i\u001b[38;5;241m+\u001b[39m\u001b[38;5;241m1\u001b[39m])\n\u001b[0;32m     63\u001b[0m   push(my_stack,order[i\u001b[38;5;241m+\u001b[39m\u001b[38;5;241m1\u001b[39m])\n\u001b[0;32m     64\u001b[0m   order\u001b[38;5;241m.\u001b[39mremove(order[i\u001b[38;5;241m+\u001b[39m\u001b[38;5;241m1\u001b[39m])\n",
      "\u001b[1;31mIndexError\u001b[0m: list index out of range"
     ]
    }
   ],
   "source": [
    "# import sys\n",
    "# line=sys.stdin.readline() #파이썬에서만\n",
    "#글로벌\n",
    "#초기상태 global \n",
    "global stack_status\n",
    "stack_status=0  \n",
    "my_stack=[]\n",
    "\n",
    "def push(stack,x):\n",
    "  stack.append(x)\n",
    "  print(stack)\n",
    "  global stack_status\n",
    "  stack_status+=1\n",
    "  \n",
    "  \n",
    "def pop(stack):\n",
    "  stack.pop()\n",
    "  global stack_status\n",
    "  stack_status-=1\n",
    "  print(stack)\n",
    "  return \n",
    "\n",
    "\n",
    "def size(stack):\n",
    "  global stack_status\n",
    "  print(stack)\n",
    "\n",
    "  return (stack_status)\n",
    "\n",
    "\n",
    "def empty(stack):\n",
    "  global stack_status\n",
    "  if (stack_status==0):\n",
    "    print('1')\n",
    "    print(stack)\n",
    "\n",
    "  else : \n",
    "    print('0')\n",
    "    print(stack)\n",
    "\n",
    "    \n",
    "    \n",
    "def top(stack):\n",
    "  global stack_status\n",
    "  if (stack_status==0):\n",
    "    print('-1')\n",
    "    print(stack)\n",
    "\n",
    "  else : print(stack[-1])#  끝값 출력 아맞다,,\n",
    "  \n",
    "      \n",
    "  \n",
    "\n",
    "N = int(input(\"명령어의 갯수 입력\")) #명령의 갯수 \n",
    "order=[]\n",
    "for i in range(N):\n",
    "\n",
    "  a=input().split()\n",
    "  order.append(a[0])\n",
    "\n",
    "  if order[i]==\"push\":\n",
    "    order.append(a[i+1])\n",
    "    push(my_stack,order[i+1])\n",
    "    order.remove(order[i+1])\n",
    "  elif order[i]==\"pop\":\n",
    "    pop(my_stack)\n",
    "  elif order[i]==\"size\":\n",
    "    size(my_stack)\n",
    "  elif order[i]==\"empty\":\n",
    "    empty(my_stack)\n",
    "  else: top(my_stack)\n"
   ]
  },
  {
   "cell_type": "code",
   "execution_count": 109,
   "metadata": {},
   "outputs": [
    {
     "data": {
      "text/plain": [
       "24"
      ]
     },
     "execution_count": 109,
     "metadata": {},
     "output_type": "execute_result"
    }
   ],
   "source": [
    "def factorial(N):\n",
    "  if N==1:\n",
    "    return 1\n",
    "  return N*factorial(N-1)\n",
    "\n",
    "factorial(int(input(\"숫자\")))\n"
   ]
  },
  {
   "cell_type": "code",
   "execution_count": 121,
   "metadata": {},
   "outputs": [
    {
     "ename": "ValueError",
     "evalue": "invalid literal for int() with base 10: ''",
     "output_type": "error",
     "traceback": [
      "\u001b[1;31m---------------------------------------------------------------------------\u001b[0m",
      "\u001b[1;31mValueError\u001b[0m                                Traceback (most recent call last)",
      "Cell \u001b[1;32mIn[121], line 6\u001b[0m\n\u001b[0;32m      3\u001b[0m     \u001b[38;5;28;01mreturn\u001b[39;00m \u001b[38;5;241m1\u001b[39m\n\u001b[0;32m      4\u001b[0m   \u001b[38;5;28;01mreturn\u001b[39;00m fibo(N\u001b[38;5;241m-\u001b[39m\u001b[38;5;241m1\u001b[39m)\u001b[38;5;241m+\u001b[39mfibo(N\u001b[38;5;241m-\u001b[39m\u001b[38;5;241m2\u001b[39m)\n\u001b[1;32m----> 6\u001b[0m fibo(\u001b[38;5;28mint\u001b[39m(\u001b[38;5;28minput\u001b[39m(\u001b[38;5;124m\"\u001b[39m\u001b[38;5;124m피보나치 수열의 N번째 항\u001b[39m\u001b[38;5;124m\"\u001b[39m)))\n",
      "\u001b[1;31mValueError\u001b[0m: invalid literal for int() with base 10: ''"
     ]
    }
   ],
   "source": [
    "def fibo(N):\n",
    "  if N<3:\n",
    "    return 1\n",
    "  return fibo(N-1)+fibo(N-2)\n",
    "\n",
    "fibo(int(input(\"피보나치 수열의 N번째 항\")))\n",
    "  "
   ]
  },
  {
   "cell_type": "code",
   "execution_count": 124,
   "metadata": {},
   "outputs": [
    {
     "data": {
      "text/plain": [
       "354224848179261915075"
      ]
     },
     "execution_count": 124,
     "metadata": {},
     "output_type": "execute_result"
    }
   ],
   "source": [
    "memory = {1: 1, 2: 1, 3: 2, 4 : 3}\n",
    "def fibo_memoization(n):\n",
    "    if n in memory:\n",
    "        number = memory[n]\n",
    "    else:\n",
    "       number = fibo_memoization(n-1) + fibo_memoization(n-2)\n",
    "       memory[n] = number\n",
    "    return number\n",
    "\n",
    "fibo_memoization(100)"
   ]
  }
 ],
 "metadata": {
  "kernelspec": {
   "display_name": "base",
   "language": "python",
   "name": "python3"
  },
  "language_info": {
   "codemirror_mode": {
    "name": "ipython",
    "version": 3
   },
   "file_extension": ".py",
   "mimetype": "text/x-python",
   "name": "python",
   "nbconvert_exporter": "python",
   "pygments_lexer": "ipython3",
   "version": "3.11.5"
  }
 },
 "nbformat": 4,
 "nbformat_minor": 2
}
