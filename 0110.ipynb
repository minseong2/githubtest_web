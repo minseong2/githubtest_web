{
 "cells": [
  {
   "cell_type": "markdown",
   "metadata": {},
   "source": [
    "cpu한번에 처리할수 있는 용량 : 32bit 기준\n",
    "\n",
    "8bit -> 2^8 (숫자 표현 갯수)\n",
    "\n",
    "\n",
    "정수 : int  4byte - 32bit   / 1 byte = 8 bits \n",
    "  \n",
    "소수 : float(부동 소숫점- 둥둥 떠다닌다) 4byte - 32bit\n",
    "\n",
    "정규화 :normalization - 소숫점을 옮긴다,, <- x2 / -> /2\n",
    "\n",
    "지수부 = -126~126까지 표현 : 00000001 = -126 / 11111110 = 126\n",
    "가수부\n",
    "\n",
    "1TB = 1000/1024 GB = (1000/1024)^2 MB = (1000/1024)^3 KB = (1000/1024)^4 Byte \n",
    "여기서 나오는 손실 -> 1TB= 930GB\n"
   ]
  },
  {
   "cell_type": "markdown",
   "metadata": {},
   "source": []
  },
  {
   "cell_type": "markdown",
   "metadata": {},
   "source": [
    "뭔가 열려있다면 닫아야한다\n",
    "같은폴더면 경로 필요 x\n",
    "\n",
    "열고 쓰고 닫고?\n",
    "열고 읽고 닫고?\n",
    "아래는 왜 되지"
   ]
  },
  {
   "cell_type": "code",
   "execution_count": 1,
   "metadata": {},
   "outputs": [
    {
     "name": "stdout",
     "output_type": "stream",
     "text": [
      "hello\n",
      "안녕\n",
      "반가워\n",
      "난, 코딩온이야\n",
      "0\n",
      "['hello\\n', '안녕\\n', '반가워\\n', '난, 코딩온이야']\n"
     ]
    }
   ],
   "source": [
    "f4=open(\"test2.txt\",\"r\")\n",
    "print(f4.read())\n",
    "\n",
    "f4.seek(0)\n",
    "print(f4.tell())\n",
    "\n",
    "context=f4.readlines()\n",
    "print(context)\n",
    "\n",
    "f4.close()"
   ]
  },
  {
   "cell_type": "code",
   "execution_count": null,
   "metadata": {},
   "outputs": [],
   "source": [
    "with open(\"example.txt\",\"a\") as file: # close 없어도 된다. # 뒤에다 적어줌\n",
    "  file.write(\"\\nhi\\n\")\n",
    "  \n",
    "with open(\"example.txt\",\"r\") as file: \n",
    "  print(file.read())"
   ]
  },
  {
   "cell_type": "code",
   "execution_count": 11,
   "metadata": {},
   "outputs": [
    {
     "ename": "FileExistsError",
     "evalue": "[Errno 17] File exists: 'N_example.txt'",
     "output_type": "error",
     "traceback": [
      "\u001b[1;31m---------------------------------------------------------------------------\u001b[0m",
      "\u001b[1;31mFileExistsError\u001b[0m                           Traceback (most recent call last)",
      "Cell \u001b[1;32mIn[11], line 1\u001b[0m\n\u001b[1;32m----> 1\u001b[0m \u001b[38;5;28;01mwith\u001b[39;00m \u001b[38;5;28mopen\u001b[39m(\u001b[38;5;124m\"\u001b[39m\u001b[38;5;124mN_example.txt\u001b[39m\u001b[38;5;124m\"\u001b[39m,\u001b[38;5;124m\"\u001b[39m\u001b[38;5;124mx\u001b[39m\u001b[38;5;124m\"\u001b[39m) \u001b[38;5;28;01mas\u001b[39;00m file: \u001b[38;5;66;03m# x 파일이 없어야 만들어짐\u001b[39;00m\n\u001b[0;32m      2\u001b[0m   file\u001b[38;5;241m.\u001b[39mwrite(\u001b[38;5;124m\"\u001b[39m\u001b[38;5;130;01m\\n\u001b[39;00m\u001b[38;5;124mhi\u001b[39m\u001b[38;5;130;01m\\n\u001b[39;00m\u001b[38;5;124m\"\u001b[39m)\n",
      "File \u001b[1;32mc:\\Users\\test\\anaconda3\\Lib\\site-packages\\IPython\\core\\interactiveshell.py:286\u001b[0m, in \u001b[0;36m_modified_open\u001b[1;34m(file, *args, **kwargs)\u001b[0m\n\u001b[0;32m    279\u001b[0m \u001b[38;5;28;01mif\u001b[39;00m file \u001b[38;5;129;01min\u001b[39;00m {\u001b[38;5;241m0\u001b[39m, \u001b[38;5;241m1\u001b[39m, \u001b[38;5;241m2\u001b[39m}:\n\u001b[0;32m    280\u001b[0m     \u001b[38;5;28;01mraise\u001b[39;00m \u001b[38;5;167;01mValueError\u001b[39;00m(\n\u001b[0;32m    281\u001b[0m         \u001b[38;5;124mf\u001b[39m\u001b[38;5;124m\"\u001b[39m\u001b[38;5;124mIPython won\u001b[39m\u001b[38;5;124m'\u001b[39m\u001b[38;5;124mt let you open fd=\u001b[39m\u001b[38;5;132;01m{\u001b[39;00mfile\u001b[38;5;132;01m}\u001b[39;00m\u001b[38;5;124m by default \u001b[39m\u001b[38;5;124m\"\u001b[39m\n\u001b[0;32m    282\u001b[0m         \u001b[38;5;124m\"\u001b[39m\u001b[38;5;124mas it is likely to crash IPython. If you know what you are doing, \u001b[39m\u001b[38;5;124m\"\u001b[39m\n\u001b[0;32m    283\u001b[0m         \u001b[38;5;124m\"\u001b[39m\u001b[38;5;124myou can use builtins\u001b[39m\u001b[38;5;124m'\u001b[39m\u001b[38;5;124m open.\u001b[39m\u001b[38;5;124m\"\u001b[39m\n\u001b[0;32m    284\u001b[0m     )\n\u001b[1;32m--> 286\u001b[0m \u001b[38;5;28;01mreturn\u001b[39;00m io_open(file, \u001b[38;5;241m*\u001b[39margs, \u001b[38;5;241m*\u001b[39m\u001b[38;5;241m*\u001b[39mkwargs)\n",
      "\u001b[1;31mFileExistsError\u001b[0m: [Errno 17] File exists: 'N_example.txt'"
     ]
    }
   ],
   "source": [
    "with open(\"N_example.txt\",\"x\") as file: # x 파일이 없어야 만들어짐 / 이미 존재하는 경우 error\n",
    "  file.write(\"\\nhi\\n\")\n",
    "  "
   ]
  },
  {
   "cell_type": "code",
   "execution_count": null,
   "metadata": {},
   "outputs": [],
   "source": [
    "member_info=str()\n",
    "for _ in range(3):\n",
    "  member_info=input(\"회원3명의 이름 비밀번호 입력\")+'\\n'\n",
    "  with open(\"member.txt\",'a') as file:\n",
    "    file.write(member_info)\n",
    "\n",
    "\n",
    "with open(\"member.txt\", \"r\") as fi: \n",
    "    line = fi.readline()\n",
    "    while line:\n",
    "        print(line.strip())\n",
    "        line = fi.readline()\n",
    "        \n",
    "name=input(\"이름을 입력하세요\")\n",
    "pw=input(\"비밀번호를 입력하세요\")\n",
    "\n",
    "member_check=name+' '+pw\n",
    "\n",
    "\n",
    "with open(\"member.txt\", \"r\") as fi: \n",
    "  \n",
    "  line = fi.readline()\n",
    "  while line:\n",
    "    if member_check==line.strip():\n",
    "      print(\"로그인 성공\")\n",
    "      break\n",
    "    print(\"로그인 실패\")\n",
    "    line = fi.readline()\n",
    "    \n",
    "    \n",
    "phone_number=input(\"전화번호를 입력하세요\")\n",
    "member_tel_info=member_check+' '+phone_number\n",
    "\n",
    "with open(\"member_tel.txt\",'+r') as file:\n",
    "  \n",
    "  adjust=file.tell() #파일을 읽기전 시작위치 받음\n",
    "  old_info=file.readline() #한줄 읽음\n",
    "  while old_info: \n",
    "    if member_check in old_info.strip(): #만약 읽어온 줄과 멤버 정보 일치 시\n",
    "      file.seek(adjust) #시작하는 위치에 \n",
    "      file.write(member_tel_info+'\\n') #덮어쓰기..?\n",
    "      break\n",
    "    adjust=file.tell() #시작위치반환\n",
    "    old_info=file.readline() #한줄 읽음\n",
    "    \n",
    "  if len(old_info)==0:\n",
    "    file.write(member_tel_info+'\\n') #맨 뒤에 추가"
   ]
  },
  {
   "cell_type": "code",
   "execution_count": 36,
   "metadata": {},
   "outputs": [
    {
     "name": "stdout",
     "output_type": "stream",
     "text": [
      "['john 1234\\n', 'kevin 2345\\n', 'go 4567\\n']\n"
     ]
    }
   ],
   "source": [
    "member_info=str()\n",
    "for _ in range(3):\n",
    "  member_info=input(\"회원3명의 이름 비밀번호 입력\")+'\\n'\n",
    "  with open(\"member.txt\",'a') as file:\n",
    "    file.write(member_info)\n",
    "\n",
    "\n",
    "with open(\"member.txt\", \"r\") as fi: \n",
    "    line = fi.readline()\n",
    "    while line:\n",
    "        print(line.strip())\n",
    "        line = fi.readline()"
   ]
  },
  {
   "cell_type": "code",
   "execution_count": 93,
   "metadata": {},
   "outputs": [
    {
     "name": "stdout",
     "output_type": "stream",
     "text": [
      "로그인 실패\n",
      "로그인 성공\n"
     ]
    }
   ],
   "source": [
    "name=input(\"이름을 입력하세요\")\n",
    "pw=input(\"비밀번호를 입력하세요\")\n",
    "\n",
    "member_check=name+' '+pw\n",
    "\n",
    "\n",
    "with open(\"member.txt\", \"r\") as fi: \n",
    "  \n",
    "  line = fi.readline()\n",
    "  while line:\n",
    "    if member_check==line.strip():\n",
    "      print(\"로그인 성공\")\n",
    "      break\n",
    "    print(\"로그인 실패\")\n",
    "    line = fi.readline()\n",
    "    "
   ]
  },
  {
   "cell_type": "code",
   "execution_count": 97,
   "metadata": {},
   "outputs": [],
   "source": [
    "phone_number=input(\"전화번호를 입력하세요\")\n",
    "member_tel_info=member_check+' '+phone_number\n",
    "\n",
    "with open(\"member_tel.txt\",'+r') as file:\n",
    "  \n",
    "  adjust=file.tell() #파일을 읽기전 시작위치 받음 \n",
    "  old_info=file.readline() #한줄 읽음\n",
    "  while old_info: \n",
    "    if member_check in old_info.strip(): #만약 읽어온 줄과 멤버 정보 일치 시\n",
    "      file.seek(adjust) #시작하는 위치에 \n",
    "      file.write(member_tel_info+'\\n') #덮어쓰기..?\n",
    "      break\n",
    "    adjust=file.tell() #시작위치 \n",
    "    old_info=file.readline() #한줄 읽음\n",
    "    \n",
    "  if len(old_info)==0:\n",
    "    file.write(member_tel_info+'\\n') #맨 뒤에 추가"
   ]
  },
  {
   "cell_type": "markdown",
   "metadata": {},
   "source": [
    "enumerate -> 순서쌍\n",
    "\n",
    "name = input(\"input name\")\n",
    "pw = input(\"input pw\")\n",
    "isLogin = False\n",
    "with open(\"member.txt\",\"r\") as file:\n",
    "  lines = file.readlines()\n",
    "  file.seek(0)\n",
    "  for line in lines:\n",
    "    text = line.split()# [ name, pw ]\n",
    "    if len(text) >= 2 and text[0] == name and text[1] == pw:\n",
    "      isLogin= True\n",
    "      break\n",
    "if isLogin:\n",
    "  print(\"log in\")\n",
    "else :\n",
    "  print(\"log in failed\")\n",
    "if isLogin:\n",
    "  telNum = input(\"input tel num\")\n",
    "  with open(\"member_tel.txt\",\"r+\") as file:\n",
    "    lines = file.readlines()\n",
    "    file.seek(0)\n",
    "    for i, line in enumerate(lines): # mylist = ['A', 'B', 'C'] -> (0, 'A'), (1, 'B'), (2,'C')\n",
    "      text = line.split()\n",
    "      if text and text[0] == name:\n",
    "        lines[i] = f\"{name} {telNum}\\n\"\n",
    "        break\n",
    "    else:\n",
    "      lines.append(f\"{name} {telNum}\\n\")\n",
    "    file.writelines(lines)"
   ]
  },
  {
   "cell_type": "code",
   "execution_count": 102,
   "metadata": {},
   "outputs": [
    {
     "name": "stdout",
     "output_type": "stream",
     "text": [
      "정수가 아님! 정수를 입력해주세요!\n",
      "정수가 아님! 정수를 입력해주세요!\n"
     ]
    }
   ],
   "source": [
    "while(1):\n",
    "  try:\n",
    "    int(input(\"숫자입력:\"))\n",
    "    print(\"정수 입력 성공\")\n",
    "    break\n",
    "  except ValueError:\n",
    "    print(\"정수가 아님! 정수를 입력해주세요!\")\n"
   ]
  },
  {
   "cell_type": "markdown",
   "metadata": {},
   "source": [
    "import numpy as np\n",
    "matmul(a,b) # 행렬의 행렬곱 연산 \n",
    "np.zeros()\n",
    "np.ones()\n",
    "np.full((2,3),5)\n",
    "np.eye(3)\n",
    ".reshape()\n",
    ".arange() # 배열생성\n",
    "random.rand(m,n)\n"
   ]
  },
  {
   "cell_type": "code",
   "execution_count": 129,
   "metadata": {},
   "outputs": [
    {
     "name": "stdout",
     "output_type": "stream",
     "text": [
      "[0. 0. 0. 0. 0. 0. 0. 0. 0. 0.]\n",
      "[0. 0. 0. 0. 1. 0. 0. 0. 0. 0.]\n",
      "[10 11 12 13 14 15 16 17 18 19 20 21 22 23 24 25 26 27 28 29 30]\n",
      "[[33 72]\n",
      " [32 71]]\n",
      "[[0.98640131 0.48413686 0.2869049  0.94674176]\n",
      " [0.00200207 0.23844603 0.00154856 0.72878962]]\n"
     ]
    }
   ],
   "source": [
    "import numpy as np \n",
    "\n",
    "zero_array=np.zeros(10) #10개의 0이 잇는 array\n",
    "print(zero_array)\n",
    "\n",
    "zero_array[4]=1 #그 array의 5번째 값 변경\n",
    "print(zero_array)\n",
    "\n",
    "ten_thirty=np.arange(10,31) #10~30 \n",
    "print(ten_thirty)\n",
    "\n",
    "random_array=np.random.randint(0,100,(2,2))\n",
    "print(random_array)\n",
    "\n",
    "random_array_2=np.random.rand(2,4)\n",
    "print(random_array_2)\n",
    "\n",
    "\n"
   ]
  },
  {
   "cell_type": "code",
   "execution_count": 149,
   "metadata": {},
   "outputs": [
    {
     "name": "stdout",
     "output_type": "stream",
     "text": [
      "[38 42 46 50 54 58 62 66 70 74]\n",
      "[[38]\n",
      " [42]\n",
      " [46]\n",
      " [50]\n",
      " [54]\n",
      " [58]\n",
      " [62]\n",
      " [66]\n",
      " [70]\n",
      " [74]]\n",
      "[[74]\n",
      " [70]\n",
      " [66]\n",
      " [62]\n",
      " [58]\n",
      " [54]\n",
      " [50]\n",
      " [46]\n",
      " [42]\n",
      " [38]]\n"
     ]
    }
   ],
   "source": [
    "\n",
    "np6=np.arange(35,75)\n",
    "np6=np6.reshape(10,4)\n",
    "#print(np6)\n",
    "\n",
    "np7=np6[::-1]\n",
    "#print(np7)\n",
    "\n",
    "np8=np6[1:-1,2:] # [행/열]\n",
    "#print(np8)\n",
    "\n",
    "np9=np6[:,3]\n",
    "#np9=np9.flatten()\n",
    "print(np9)\n",
    "\n",
    "np9_2=np6[:,3:]\n",
    "#np9_2=np9_2.reshape(10,1)\n",
    "print(np9_2)\n",
    "\n",
    "np10=np9_2[-1::-1]\n",
    "print(np10)"
   ]
  },
  {
   "cell_type": "code",
   "execution_count": 153,
   "metadata": {},
   "outputs": [
    {
     "name": "stdout",
     "output_type": "stream",
     "text": [
      "[[44 49 35 28 10  1]\n",
      " [13 40  9 40 42 33]\n",
      " [35 41 18  9 21 18]\n",
      " [30 42 45  6 43 34]\n",
      " [20 17  8 11 22 15]]\n"
     ]
    },
    {
     "data": {
      "text/plain": [
       "array([44, 28, 10, 40, 40, 42, 18, 18, 30, 42,  6, 34, 20,  8, 22])"
      ]
     },
     "execution_count": 153,
     "metadata": {},
     "output_type": "execute_result"
    }
   ],
   "source": [
    "np11=np.random.randint(1,51,size=(5,6))\n",
    "print(np11)\n",
    "np11[np11%2==0]"
   ]
  },
  {
   "cell_type": "code",
   "execution_count": 160,
   "metadata": {},
   "outputs": [
    {
     "name": "stdout",
     "output_type": "stream",
     "text": [
      "[  1   2   3   4   5   7   8   9  10  11  24 100]\n",
      "100 1 15.333333333333334 184 5.0\n"
     ]
    }
   ],
   "source": [
    "import numpy as np\n",
    "data=[1,1,2,3,4,5,5,5,5,7,8,9,10,11,24,100]\n",
    "\n",
    "data_sort=np.unique(data)\n",
    "print(data_sort)\n",
    "max_data=np.max(data_sort)\n",
    "min_data=np.min(data_sort)\n",
    "avg_data=np.mean(data_sort)\n",
    "sum_data=np.sum(data_sort)\n",
    "medium_data=np.median(data)\n",
    "\n",
    "print(max_data,min_data,avg_data,sum_data,medium_data)"
   ]
  }
 ],
 "metadata": {
  "kernelspec": {
   "display_name": "base",
   "language": "python",
   "name": "python3"
  },
  "language_info": {
   "codemirror_mode": {
    "name": "ipython",
    "version": 3
   },
   "file_extension": ".py",
   "mimetype": "text/x-python",
   "name": "python",
   "nbconvert_exporter": "python",
   "pygments_lexer": "ipython3",
   "version": "3.11.5"
  }
 },
 "nbformat": 4,
 "nbformat_minor": 2
}
