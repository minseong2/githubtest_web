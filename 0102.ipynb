{
 "cells": [
  {
   "cell_type": "code",
   "execution_count": 39,
   "metadata": {},
   "outputs": [],
   "source": [
    "a=3\n",
    "b=4"
   ]
  },
  {
   "cell_type": "code",
   "execution_count": 5,
   "metadata": {},
   "outputs": [
    {
     "name": "stdout",
     "output_type": "stream",
     "text": [
      "7\n"
     ]
    }
   ],
   "source": [
    "print(a+b)"
   ]
  },
  {
   "cell_type": "code",
   "execution_count": null,
   "metadata": {},
   "outputs": [],
   "source": []
  },
  {
   "cell_type": "markdown",
   "metadata": {},
   "source": [
    "b below 아래 셀 생성 / a above 위 셀 생성 / m 코드 셀을 마크다운으로 변경 / y 마크다운 셀을 코드 셀로 변경\n",
    "(deactive 상태에서)\n",
    "\n",
    "> 마크다운 문법정리\n",
    "\n",
    "https://heropy.blog/2017/09/30/markdown/"
   ]
  },
  {
   "cell_type": "code",
   "execution_count": 7,
   "metadata": {},
   "outputs": [
    {
     "name": "stdout",
     "output_type": "stream",
     "text": [
      "['False', 'None', 'True', 'and', 'as', 'assert', 'async', 'await', 'break', 'class', 'continue', 'def', 'del', 'elif', 'else', 'except', 'finally', 'for', 'from', 'global', 'if', 'import', 'in', 'is', 'lambda', 'nonlocal', 'not', 'or', 'pass', 'raise', 'return', 'try', 'while', 'with', 'yield']\n"
     ]
    }
   ],
   "source": [
    "import keyword\n",
    "print (keyword.kwlist)"
   ]
  },
  {
   "cell_type": "code",
   "execution_count": 20,
   "metadata": {},
   "outputs": [
    {
     "data": {
      "text/plain": [
       "' ArithmeticError '"
      ]
     },
     "execution_count": 20,
     "metadata": {},
     "output_type": "execute_result"
    }
   ],
   "source": [
    "abs(-3.14)\n",
    "# 주석\n",
    "''' ArithmeticError '''\n"
   ]
  },
  {
   "cell_type": "code",
   "execution_count": 21,
   "metadata": {},
   "outputs": [
    {
     "name": "stdout",
     "output_type": "stream",
     "text": [
      "hello+world!\n"
     ]
    }
   ],
   "source": [
    "print(\"hello\",\"world!\",sep=\"+\")\n",
    "#\\n 줄바꿈"
   ]
  },
  {
   "cell_type": "code",
   "execution_count": 29,
   "metadata": {},
   "outputs": [
    {
     "name": "stdout",
     "output_type": "stream",
     "text": [
      "helloworld\n"
     ]
    }
   ],
   "source": [
    "print(\"hello\", end=\"\")\n",
    "print(\"world\")"
   ]
  },
  {
   "cell_type": "code",
   "execution_count": 1,
   "metadata": {},
   "outputs": [
    {
     "name": "stdout",
     "output_type": "stream",
     "text": [
      "이름은 kevin, 나이는 20, 사는곳은 incheon, 키는 173입니다.\n"
     ]
    }
   ],
   "source": [
    "myname=\"kevin\"\n",
    "age=20\n",
    "add=\"incheon\"\n",
    "height=173\n",
    "\n",
    "print(f\"이름은 {myname}, 나이는 {age}, 사는곳은 {add}, 키는 {height}입니다.\")"
   ]
  },
  {
   "cell_type": "code",
   "execution_count": 4,
   "metadata": {},
   "outputs": [
    {
     "name": "stdout",
     "output_type": "stream",
     "text": [
      "20\n"
     ]
    }
   ],
   "source": [
    "a=int(input(\"숫자를 입력해주세요\"))\n",
    "print(a)\n"
   ]
  },
  {
   "cell_type": "code",
   "execution_count": 63,
   "metadata": {},
   "outputs": [
    {
     "name": "stdout",
     "output_type": "stream",
     "text": [
      "|\\_/|\n",
      "|q p|   /}\n",
      "( 0 )\"\"\"\\\n",
      "|\"^\"\\`   |\n",
      "||_/=\\\\__|\n"
     ]
    }
   ],
   "source": [
    "print(\"|\\_/|\")\n",
    "print(\"|q p|   /}\")\n",
    "print(\"( 0 )\\\"\\\"\\\"\\\\\")\n",
    "print(\"|\\\"^\\\"\\`   |\")\n",
    "print(\"||_/=\\\\\\\\__|\")"
   ]
  },
  {
   "cell_type": "code",
   "execution_count": 8,
   "metadata": {},
   "outputs": [
    {
     "data": {
      "text/plain": [
       "2"
      ]
     },
     "execution_count": 8,
     "metadata": {},
     "output_type": "execute_result"
    }
   ],
   "source": [
    "3.2//2 # \"//\" 몫"
   ]
  },
  {
   "cell_type": "code",
   "execution_count": 9,
   "metadata": {},
   "outputs": [
    {
     "data": {
      "text/plain": [
       "2"
      ]
     },
     "execution_count": 9,
     "metadata": {},
     "output_type": "execute_result"
    }
   ],
   "source": [
    "11%3"
   ]
  },
  {
   "cell_type": "code",
   "execution_count": 11,
   "metadata": {},
   "outputs": [
    {
     "data": {
      "text/plain": [
       "9"
      ]
     },
     "execution_count": 11,
     "metadata": {},
     "output_type": "execute_result"
    }
   ],
   "source": [
    "3**2"
   ]
  },
  {
   "cell_type": "code",
   "execution_count": 28,
   "metadata": {},
   "outputs": [
    {
     "data": {
      "text/plain": [
       "'elppa'"
      ]
     },
     "execution_count": 28,
     "metadata": {},
     "output_type": "execute_result"
    }
   ],
   "source": [
    "\"apple\"[-1:-6:-1] #[0:4] 혼합가능 [ : :(여기엔 간격이 들어갈 수 있다/음수일 경우 역방향)]"
   ]
  },
  {
   "cell_type": "code",
   "execution_count": 38,
   "metadata": {},
   "outputs": [
    {
     "data": {
      "text/plain": [
       "3"
      ]
     },
     "execution_count": 38,
     "metadata": {},
     "output_type": "execute_result"
    }
   ],
   "source": [
    "len(\"asd\")"
   ]
  },
  {
   "cell_type": "code",
   "execution_count": 49,
   "metadata": {},
   "outputs": [
    {
     "name": "stdout",
     "output_type": "stream",
     "text": [
      "이름을 입력하세요.이민성\n",
      "나이를 입력하세요.20\n",
      "안녕하세요! 이민성님 (20세)\n",
      "이름을 입력하세요.이민성\n",
      "태어난 년도를 입력하세요2000\n",
      "올해 년도를 입력하세요2024\n",
      "올해는 2024년, 이민성님의 나이는 (24세입니다.)\n"
     ]
    }
   ],
   "source": [
    "#1번\n",
    "name=input(print(\"이름을 입력하세요.\",end=\"\"))\n",
    "print(name)\n",
    "age=input(print(\"나이를 입력하세요.\",end=\"\"))\n",
    "print(age)\n",
    "print(f\"안녕하세요! {name}님 ({age}세)\")\n",
    "\n",
    "#2번\n",
    "name_2=input(print(\"이름을 입력하세요.\",end=\"\"))\n",
    "print(name_2)\n",
    "birth_year=input(print(\"태어난 년도를 입력하세요\",end=\"\"))\n",
    "print(birth_year)\n",
    "year=input(print(\"올해 년도를 입력하세요\",end=\"\"))\n",
    "print(year)\n",
    "age_2=int(year)-int(birth_year)\n",
    "print(f\"올해는 {year}년, {name_2}님의 나이는 ({age_2}세입니다.)\")\n",
    "\n"
   ]
  },
  {
   "cell_type": "code",
   "execution_count": 59,
   "metadata": {},
   "outputs": [
    {
     "name": "stdout",
     "output_type": "stream",
     "text": [
      "2360\n",
      "3776\n",
      "1416\n",
      "181720\n"
     ]
    }
   ],
   "source": [
    "#3\n",
    "a=input(\"a\")\n",
    "b=input(\"b\")\n",
    "a=int(a)\n",
    "result_3=a*int(b[2])\n",
    "print(result_3)  \n",
    "\n",
    "#4\n",
    "\n",
    "result_4=a*int(b[1])\n",
    "print(result_4)\n",
    "\n",
    "#5\n",
    "\n",
    "result_5=a*int(b[0])\n",
    "print(result_5)\n",
    "#6\n",
    "\n",
    "result_6=result_3+(10*result_4)+(100*result_5)\n",
    "print(result_6)\n"
   ]
  },
  {
   "cell_type": "code",
   "execution_count": 79,
   "metadata": {},
   "outputs": [
    {
     "name": "stdout",
     "output_type": "stream",
     "text": [
      "[1, 2, 3, 4, 5]\n",
      "[1, 2, 3, 4, 5]\n"
     ]
    }
   ],
   "source": [
    "num=[1,2,3,5,4]\n",
    "num.sort(reverse=-1) #reverse=false 거꾸로 정렬\n",
    "num.reverse() # 그냥 뒤집기\n",
    "print(sorted(num)) #원본 유지 \n",
    "print(num)\n",
    "num.remove(1)\n",
    "num.append(0)\n",
    "num.insert(2,\"2\")\n",
    "num.pop(2)"
   ]
  },
  {
   "cell_type": "code",
   "execution_count": 90,
   "metadata": {},
   "outputs": [
    {
     "name": "stdout",
     "output_type": "stream",
     "text": [
      "orange\n",
      "['blue', 'green', 'indigo', 'orange', 'purple', 'red', 'yellow']\n",
      "['red', 'orange', 'yellow', 'green', 'blue', 'indigo', 'purple', 'white']\n",
      "['red', 'orange', 'purple', 'white']\n"
     ]
    }
   ],
   "source": [
    "rainbow=['red','orange','yellow','green','blue','indigo','purple']\n",
    "\n",
    "#1 \n",
    "\n",
    "print(rainbow[1])\n",
    "\n",
    "#2\n",
    "\n",
    "print(sorted(rainbow))\n",
    "\n",
    "#3\n",
    "\n",
    "rainbow.append('white')\n",
    "print(rainbow)\n",
    "\n",
    "#4\n",
    "\n",
    "del rainbow[2:6]\n",
    "print(rainbow)"
   ]
  },
  {
   "cell_type": "code",
   "execution_count": 92,
   "metadata": {},
   "outputs": [
    {
     "name": "stdout",
     "output_type": "stream",
     "text": [
      "a>b\n"
     ]
    }
   ],
   "source": [
    "a=4\n",
    "b=3\n",
    "\n",
    "if a>b:\n",
    "  print(\"a>b\")"
   ]
  },
  {
   "cell_type": "code",
   "execution_count": 95,
   "metadata": {},
   "outputs": [
    {
     "name": "stdout",
     "output_type": "stream",
     "text": [
      "짝수\n"
     ]
    }
   ],
   "source": [
    "a=int(input(\"숫자입력\"))\n",
    "\n",
    "if a%2 ==0:\n",
    "  print(\"짝수\")                         \n",
    "  \n",
    "else: print(\"홀수\")\n",
    "  "
   ]
  },
  {
   "cell_type": "code",
   "execution_count": 14,
   "metadata": {},
   "outputs": [
    {
     "name": "stdout",
     "output_type": "stream",
     "text": [
      "e등급입니다.\n"
     ]
    }
   ],
   "source": [
    "a=int(input(\"점수를 입력하세요\"))\n",
    "\n",
    "if a>=90:\n",
    "  print(\"a등급입니다.\")\n",
    "elif a>=80:\n",
    "  print(\"b등급입니다.\")\n",
    "elif a>=70:\n",
    "  print(\"c등급입니다.\")\n",
    "elif a>=60:\n",
    "  print(\"d등급입니다.\")\n",
    "else :\n",
    "  print(\"e등급입니다.\")\n",
    "\n"
   ]
  },
  {
   "cell_type": "code",
   "execution_count": 20,
   "metadata": {},
   "outputs": [
    {
     "name": "stdout",
     "output_type": "stream",
     "text": [
      "20세의 카드 요금은 1200원입니다.\n",
      "카드\n"
     ]
    }
   ],
   "source": [
    "age=int(input(\"나이를 숫자로 입력해주세요\"))\n",
    "path=input(\"결제방법을 선택해주세요. ('카드'또는 '현금'만 입력)\")\n",
    "\n",
    "if 8<=age<14:\n",
    "  \n",
    "  if path==\"카드\":\n",
    "      print(f\"{age}세의 카드 요금은 450원입니다.\")\n",
    "  else : \n",
    "      print(f\"{age}세의 현금 요금은 450원입니다.\")\n",
    "      \n",
    "elif 14<=age<20:\n",
    "  \n",
    "  if path==\"카드\":\n",
    "      print(f\"{age}세의 카드 요금은 720원입니다.\")\n",
    "  else : \n",
    "      print(f\"{age}세의 현금 요금은 1000원입니다.\")\n",
    "\n",
    "elif 20<=age<75:\n",
    "  \n",
    "  if path==\"카드\":\n",
    "      print(f\"{age}세의 카드 요금은 1200원입니다.\")\n",
    "  else : \n",
    "      print(f\"{age}세의 현금 요금은 1300원입니다.\")\n",
    "\n",
    "else : \n",
    "  print(f\"{age}세의 요금은 무료입니다.\")\n",
    "\n"
   ]
  },
  {
   "cell_type": "code",
   "execution_count": 41,
   "metadata": {},
   "outputs": [
    {
     "name": "stdout",
     "output_type": "stream",
     "text": [
      "c b a\n"
     ]
    }
   ],
   "source": [
    "mylist=list(\"abc\")\n",
    "\n",
    "# \"_\".join(mylist) #list 사이사이에 join (공백시 통합)\n",
    "\n",
    "mylist.reverse()\n",
    "\"\".join(mylist)\n",
    "#print(mylist)\n",
    "print(*mylist) #하나씩 불러오는?"
   ]
  },
  {
   "cell_type": "code",
   "execution_count": 47,
   "metadata": {},
   "outputs": [
    {
     "name": "stdout",
     "output_type": "stream",
     "text": [
      "<list_reverseiterator object at 0x000001CE48487490>\n"
     ]
    }
   ],
   "source": [
    "mylist=list(\"abc\")\n",
    "print(reversed(mylist))"
   ]
  },
  {
   "cell_type": "code",
   "execution_count": null,
   "metadata": {},
   "outputs": [],
   "source": [
    "# 예시 코드\n",
    "list = ['a','b','c',1,2,3] #index 번호는 0부터 1씩 증가\n",
    "\n",
    "tuple =(4,5,6) \n",
    "\n",
    "set = {'가','나','다','다'} # 중복을 허용하지 않음\n",
    "\n",
    "dict = {'key':'value'} # 키와 밸류가 한쌍을 이룸"
   ]
  }
 ],
 "metadata": {
  "kernelspec": {
   "display_name": "base",
   "language": "python",
   "name": "python3"
  },
  "language_info": {
   "codemirror_mode": {
    "name": "ipython",
    "version": 3
   },
   "file_extension": ".py",
   "mimetype": "text/x-python",
   "name": "python",
   "nbconvert_exporter": "python",
   "pygments_lexer": "ipython3",
   "version": "3.11.5"
  }
 },
 "nbformat": 4,
 "nbformat_minor": 2
}
