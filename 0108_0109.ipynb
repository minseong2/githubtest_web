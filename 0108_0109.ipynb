{
 "cells": [
  {
   "cell_type": "markdown",
   "metadata": {},
   "source": [
    "객체화 인스턴스화 클래스가 뭔지\n",
    "컴프리핸션 - 반복가능한 객체 전부 사용 가능"
   ]
  },
  {
   "cell_type": "code",
   "execution_count": 23,
   "metadata": {},
   "outputs": [
    {
     "name": "stdout",
     "output_type": "stream",
     "text": [
      "{'apple': 6, 'kiwi': 5}\n"
     ]
    }
   ],
   "source": [
    "my_dict={'apple':6,'banana':3,'orange':4,'kiwi':5} \n",
    " \n",
    "five_list={ key:value for (key,value) in my_dict.items() if value>=5} #dict로 만들꺼니까 {:}로 대입\n",
    "print(five_list)\n",
    "\n",
    "my_list=[list(i) for i in my_dict.items()] \n",
    "print(my_list)\n",
    "\n",
    "add= lambda x,y : x+y # 대입 = lambda 변수 : 수식\n"
   ]
  },
  {
   "cell_type": "code",
   "execution_count": 29,
   "metadata": {},
   "outputs": [
    {
     "name": "stdout",
     "output_type": "stream",
     "text": [
      "bossbaby\n",
      "보스베이비\n"
     ]
    }
   ],
   "source": [
    "# movie 전체 \n",
    "# private = __(언더바 두개) 바뀌면 안되기 때문에\n",
    "class Movie:\n",
    "  count = 0\n",
    "  def __init__(self, title, audience):\n",
    "    self.__title = title\n",
    "    self.audience = audience\n",
    "    Movie.count +=1\n",
    "    \n",
    "  def get_title(self): # 제목 반환\n",
    "    return self.__title\n",
    "  \n",
    "  def set_title(self, title): #제목 변경\n",
    "    self.__title =title\n",
    "    \n",
    "movie1 = Movie(\"bossbaby\", 100)\n",
    "\n",
    "\n",
    "print(movie1.get_title())\n",
    "movie1.set_title(\"보스베이비\")\n",
    "print(movie1.get_title())"
   ]
  },
  {
   "cell_type": "code",
   "execution_count": 36,
   "metadata": {},
   "outputs": [
    {
     "name": "stdout",
     "output_type": "stream",
     "text": [
      "{'make': 'tesla', 'model': 'r99', 'year': '2000', 'color': 'red'}\n"
     ]
    }
   ],
   "source": [
    "class Car:\n",
    "    def __init__(self, make, model, year, color):\n",
    "        self.make = make      # 제조사\n",
    "        self.model = model    # 모델\n",
    "        self.year = year      # 제조년도\n",
    "        self.color = color    # 색상\n",
    "        \n",
    "        \n",
    "R50 = Car('tesla','r99','2000','red')\n",
    "print(vars(R50)) # attribute(속성)를 알아내기"
   ]
  },
  {
   "cell_type": "code",
   "execution_count": 41,
   "metadata": {},
   "outputs": [
    {
     "name": "stdout",
     "output_type": "stream",
     "text": [
      "25\n"
     ]
    }
   ],
   "source": [
    "class Chainable:\n",
    "    def __init__(self, value=0): #value를 지정하지 않으면 초기화\n",
    "        self.value = value\n",
    "\n",
    "    def add(self, x):\n",
    "        self.value += x\n",
    "        return self  # 자기 자신을 리턴하여 메소드 체인을 지원 재귀함수 st \n",
    "\n",
    "    def multiply(self, y):\n",
    "        self.value *= y\n",
    "        return self\n",
    "\n",
    "    def get_result(self):\n",
    "        return self.value\n",
    "\n",
    "# 객체 생성\n",
    "obj = Chainable()\n",
    "\n",
    "# 메소드 체인을 통한 호출\n",
    "result = obj.add(5).multiply(3).add(10).get_result()\n",
    "\n",
    "print(result)  # 출력: 25 ( (0+5)*3+10 )"
   ]
  },
  {
   "cell_type": "code",
   "execution_count": 44,
   "metadata": {},
   "outputs": [
    {
     "name": "stdout",
     "output_type": "stream",
     "text": [
      "0x1c0c69338c0\n",
      "===========================\n",
      "0x1c0c68f83c0\n",
      "===========================\n",
      "저는 MF 포지션입니다.\n",
      "0x7fff9a026af0\n",
      "===========================\n",
      "저는 DF 포지션입니다.\n",
      "0x7fff9a026af0\n",
      "===========================\n",
      "0x1c0c43b5370\n",
      "0x1c0c69939b0\n"
     ]
    }
   ],
   "source": [
    "class FB_Player: # initialize\n",
    "  def __init__(self,myname,age,backnumber,position,club):\n",
    "    self.name = myname\n",
    "    self.age = age\n",
    "    self.backnumber = backnumber\n",
    "    self.position = position\n",
    "    self.club = club\n",
    "    \n",
    "  def Info_Pos(self):  #pointer 주소 가르키기\n",
    "    print(f\"저는 {self.position} 포지션입니다.\")\n",
    "    \n",
    "    \n",
    "\n",
    "messi = FB_Player(\"messi\",\"35\",\"10\",\"MF\",\"마이애미\")\n",
    "\n",
    "ronaldo = FB_Player(\"ronaldo\",\"40\",\"11\",\"DF\",\"한국\")\n",
    "\n",
    "\n",
    "print(hex(id(messi.Info_Pos))) # binary 2진수 / decimal 10진수 / hex 16진수 / id = 주소값 반환 \n",
    "print(\"===========================\") # 인스턴스 내 포인터의 주소값 반환 \n",
    "\n",
    "print(hex(id(ronaldo.Info_Pos)))\n",
    "print(\"===========================\")\n",
    "\n",
    "\n",
    "print(hex(id(messi.Info_Pos()))) # 실행 되는 클래스 내 메소드의 주소값 반환 (가르키는 곳)\n",
    "print(\"===========================\")\n",
    "\n",
    "print(hex(id(ronaldo.Info_Pos())))\n",
    "print(\"===========================\")\n",
    "\n",
    "print(hex(id(messi.age)))\n",
    "print(hex(id(ronaldo.age)))"
   ]
  },
  {
   "cell_type": "code",
   "execution_count": 130,
   "metadata": {},
   "outputs": [
    {
     "name": "stdout",
     "output_type": "stream",
     "text": [
      "0.01\n"
     ]
    }
   ],
   "source": [
    "class Item:\n",
    "    def __init__(self, Iprice=None, Itype=None):\n",
    "        self.__Iprice = Iprice\n",
    "        self.Itype = Itype\n",
    "\n",
    "    def getIprice(self):\n",
    "        return self.__Iprice  # 값을 반환하는 것이 더 적절할 것입니다.\n",
    "\n",
    "class Weapon(Item):\n",
    "    def __init__(self, Iprice=None, Itype=None, dropRate=0):\n",
    "        super().__init__(Iprice, Itype)  # Item 클래스의 생성자 호출\n",
    "        self.__dropRate = dropRate\n",
    "\n",
    "    def setDropRate(self, dropRate):\n",
    "        self.__dropRate = dropRate\n",
    "    def getDropRate(self):\n",
    "        print(self.__dropRate)\n",
    "    \n",
    "myBow = Weapon(100, 'Bow',0.01)  # Item 클래스의 생성자와 Weapon 클래스의 생성자에 필요한 인자를 제공\n",
    "myBow.getDropRate()"
   ]
  },
  {
   "cell_type": "code",
   "execution_count": 200,
   "metadata": {},
   "outputs": [
    {
     "name": "stdout",
     "output_type": "stream",
     "text": [
      "Minseong\n",
      " 직업 : warrior, 레벨 : 1, 체력 : 21, 공격력 : 4\n",
      "몬스터 : rabbit,체력 : 7,공격력 : 3\n",
      "rabbit과의 전투를 시작합니다.\n",
      "몬스터 rabbit의 턴, power 3으로 공격 : Minseong의 체력 :18 / 몬스터rabbit의 체력 7\n",
      "Minseong님의 턴, power 4으로 공격 : Minseong의 체력 :18 / 몬스터rabbit의 체력 3\n",
      "몬스터 rabbit의 턴, power 3으로 공격 : Minseong의 체력 :15 / 몬스터rabbit의 체력 3\n",
      "Minseong님의 턴, power 4으로 공격 : Minseong의 체력 :15 / 몬스터rabbit의 체력 -1\n",
      "Minseong의 레벨이 2로 올랐습니다.\n",
      " 체력 :22,공격력 :5,\n",
      "전투 종료, Minseong님의 승리!\n"
     ]
    }
   ],
   "source": [
    "import random\n",
    "\n",
    "\n",
    "class Game(): #id pw 직업, 레벨\n",
    "  def __init__(self,id,pw,Class,level): \n",
    "    self.__id=id\n",
    "    self.pw=pw\n",
    "    self.Class=Class\n",
    "    self.level=level\n",
    "  \n",
    "  def show_id(self): #private id 출력\n",
    "    return print(self.__id)\n",
    "  \n",
    "  def Class_decision(self): # 직업 결정 0,1로 전사/법사\n",
    "    if self.Class==0:\n",
    "      self.Class='warrior'\n",
    "      self.hp=20+self.level\n",
    "      self.max_hp=self.hp\n",
    "      self.power=3+self.level\n",
    "    else:\n",
    "      self.Class='magicion'\n",
    "      self.hp=15+self.level\n",
    "      self.power=5+self.level\n",
    "      \n",
    "  def Charactor_info(self): #캐릭터 정보 출력 - 직업에 따라 체력 공격력 결정됨\n",
    "    print(f\" 직업 : {self.Class}, 레벨 : {self.level}, 체력 : {self.hp}, 공격력 : {self.power}\")\n",
    "\n",
    "  def monster_decision(self): #레벨대에 맞는 몬스터 결정\n",
    "    if self.level<5:\n",
    "      self.monster_name='rabbit'\n",
    "      self.monster_hp=6+self.level\n",
    "      self.monster_power=2+self.level\n",
    "    elif self.level<10:\n",
    "      self.monster_name='pig'\n",
    "      self.monster_hp=15+self.level\n",
    "      self.monster_power=3+self.level\n",
    "    print(f\"몬스터 : {self.monster_name},체력 : {self.monster_hp},공격력 : {self.monster_power}\")\n",
    "    \n",
    "    \n",
    "  def level_up(self):\n",
    "    self.level+=1\n",
    "    self.hp=self.max_hp+1\n",
    "    self.power+=1\n",
    "    print(f\"{self.__id}의 레벨이 {self.level}로 올랐습니다.\\n 체력 :{self.hp},공격력 :{self.power},\")\n",
    "    \n",
    "  def battle_monster(self): #전투\n",
    "    attack_sequence=[0,1] #전투 순서 결정\n",
    "    count_turn=0 #턴 세는 거\n",
    "    print(f\"{self.monster_name}과의 전투를 시작합니다.\")\n",
    "    random.shuffle(attack_sequence) #선공은 랜덤하게 결정\n",
    "    count_turn=attack_sequence[0]\n",
    "    while(self.monster_hp>0 and self.hp>0): #누군가의 피가 0이 될때\n",
    "      if (count_turn&1): #홀수 턴\n",
    "        print(f\"몬스터 {self.monster_name}의 턴, power {self.monster_power}으로 공격\",end=' : ')\n",
    "        self.hp-=self.monster_power\n",
    "        print(f\"{self.__id}의 체력 :{self.hp} / 몬스터{self.monster_name}의 체력 {self.monster_hp}\")\n",
    "      else:#짝수턴\n",
    "        print(f\"{self.__id}님의 턴, power {self.power}으로 공격\",end=' : ')\n",
    "        self.monster_hp-=self.power\n",
    "        print(f\"{self.__id}의 체력 :{self.hp} / 몬스터{self.monster_name}의 체력 {self.monster_hp}\")\n",
    "\n",
    "      count_turn+=1\n",
    "    if self.monster_hp<=0:      \n",
    "      Game.level_up(self)\n",
    "      print(f\"전투 종료, {self.__id}님의 승리!\") #전투 승리시 레벨업\n",
    "    else:\n",
    "      print(f\"전투 종료, {self.monster_name}의 승리...캐릭터 사망\")\n",
    "  \n",
    "    \n",
    "    \n",
    "    \n",
    "    \n",
    "    \n",
    "    \n",
    " \n",
    "my_game=Game('Minseong','1234',0,1)\n",
    "my_game.show_id()\n",
    "my_game.Class_decision()\n",
    "my_game.Charactor_info()\n",
    "my_game.monster_decision()\n",
    "my_game.battle_monster()\n",
    "\n"
   ]
  },
  {
   "cell_type": "code",
   "execution_count": 188,
   "metadata": {},
   "outputs": [],
   "source": [
    "# dog is an animal player is creator\n",
    "# car has a engine game has player\n",
    "\n",
    "#프로포티에 접근 못하게 모두 프라이빗\n",
    "#모두 get_() 해줘서 접근할 수 있게 했다.\n"
   ]
  },
  {
   "cell_type": "code",
   "execution_count": 47,
   "metadata": {},
   "outputs": [
    {
     "name": "stdout",
     "output_type": "stream",
     "text": [
      "당신은 warrior 입니다.\n",
      "이름 : kevin 직업 : warrior 레벨 : 1, 체력 : 25, 데미지 :5.0\n",
      "당신은 monster 입니다.\n",
      "이름 : lion 직업 : monster 레벨 : 1, 체력 : 15, 데미지 :3.0\n",
      "당신은 monster 입니다.\n",
      "이름 : dragon 직업 : monster 레벨 : 2, 체력 : 21, 데미지 :4.5\n",
      "kevin님과 lion과의 전투를 시작합니다.\n",
      "[1번째 턴 입니다.] kevin님의 턴, 5.0의 데미지로 공격 : kevin의 체력 :25 / 몬스터lion의 체력 10.0\n",
      "[2번째 턴 입니다.] 몬스터 lion의 턴, 3.0의 데미지로 공격 : kevin의 체력 :22.0 / 몬스터 lion의 체력 10.0\n",
      "[3번째 턴 입니다.] kevin님의 턴, 5.0의 데미지로 공격 : kevin의 체력 :22.0 / 몬스터lion의 체력 5.0\n",
      "[4번째 턴 입니다.] 몬스터 lion의 턴, 3.0의 데미지로 공격 : kevin의 체력 :19.0 / 몬스터 lion의 체력 5.0\n",
      "[5번째 턴 입니다.] kevin님의 턴, 5.0의 데미지로 공격 : kevin의 체력 :19.0 / 몬스터lion의 체력 0.0\n",
      "kevin님이 레벨 2로 레벨 업 했습니다!\n",
      " 체력 : 26, 데미지 : 5.5\n",
      "전투 종료, kevin님의 승리!\n",
      "417원이 드롭되었습니다. 현재 잔고 : 417 원\n",
      "kevin님과 dragon과의 전투를 시작합니다.\n",
      "[1번째 턴 입니다.] kevin님의 턴, 5.5의 데미지로 공격 : kevin의 체력 :26 / 몬스터dragon의 체력 15.5\n",
      "[2번째 턴 입니다.] 몬스터 dragon의 턴, 4.5의 데미지로 공격 : kevin의 체력 :21.5 / 몬스터 dragon의 체력 15.5\n",
      "[3번째 턴 입니다.] kevin님의 턴, 5.5의 데미지로 공격 : kevin의 체력 :21.5 / 몬스터dragon의 체력 10.0\n",
      "[4번째 턴 입니다.] 몬스터 dragon의 턴, 4.5의 데미지로 공격 : kevin의 체력 :17.0 / 몬스터 dragon의 체력 10.0\n",
      "[5번째 턴 입니다.] kevin님의 턴, 5.5의 데미지로 공격 : kevin의 체력 :17.0 / 몬스터dragon의 체력 4.5\n",
      "[6번째 턴 입니다.] 몬스터 dragon의 턴, 4.5의 데미지로 공격 : kevin의 체력 :12.5 / 몬스터 dragon의 체력 4.5\n",
      "[7번째 턴 입니다.] kevin님의 턴, 5.5의 데미지로 공격 : kevin의 체력 :12.5 / 몬스터dragon의 체력 -1.0\n",
      "kevin님이 레벨 3로 레벨 업 했습니다!\n",
      " 체력 : 27, 데미지 : 6.0\n",
      "전투 종료, kevin님의 승리!\n",
      "249원이 드롭되었습니다. 현재 잔고 : 666 원\n",
      "이름 : kevin 직업 : warrior 레벨 : 3, 체력 : 27, 데미지 :6.0\n",
      "강화 성공 ! hp가 28로 증가.\n",
      "이름 : kevin 직업 : warrior 레벨 : 3, 체력 : 28, 데미지 :6.0\n",
      "현재 잔고 : 166 원\n"
     ]
    }
   ],
   "source": [
    "# dog is an animal \n",
    "# car has a engine 실패->해결과정\n",
    "# 플레이어와 스토어는 어떤식으로 ..\n",
    "# 추가해볼거 공격력/마법공격력/방어력/마법저항력  스피드(속도)\n",
    "# 나중에. 데미지공식 = (때린애의 공격력-방어력) + (마법공격력-마법저항력)\n",
    "# 플레이어 랭킹\n",
    "# 스킬을 돈주고 산다  / 플레이어 요소에 스킬 추가 / 공격 시 스킬 사용 여부 판단 \n",
    "# 아이템 -- / ;; / 스탯에 아이템 추가\n",
    "\n",
    "import random\n",
    "\n",
    "class client(): #클라이언트 설정 id pw \n",
    "  def __init__(self,id,pw): \n",
    "    self.__id=id\n",
    "    self.pw=pw\n",
    "  \n",
    "  def show_id(self): #private id 출력\n",
    "    return (self.__id)\n",
    "  \n",
    "    \n",
    "class unit(): #유닛 설정\n",
    "  \n",
    "  def __init__(self,name,job,hp,damage,level): \n",
    "    self.name=name\n",
    "    self.job=job\n",
    "    self.hp=hp\n",
    "    self.damage=damage\n",
    "    self.level=level\n",
    "    self.max_hp=hp\n",
    "    \n",
    "  def setting_unit(self): #함수 전체 실행\n",
    "    self.class_selection()\n",
    "    self.set_status()\n",
    "    self.show_unit_info()\n",
    "    \n",
    "  def class_selection(self): #직업선택 - 몬스터는 몬스터\n",
    "    if self.job==0: #전사 보너스 체력 20증가\n",
    "      self.job='warrior'\n",
    "      self.hp+=5\n",
    "      self.max_hp=self.hp\n",
    "    elif self.job==1: #마법사 보너스 공격력 3증가\n",
    "      self.job='magicion'\n",
    "      self.damage+=1\n",
    "    else: 1 #몬스터 현행유지\n",
    "    print(f\"당신은 {self.job} 입니다.\")\n",
    "  \n",
    "  def set_status(self): #레벨에 따른 스탯 설정 \n",
    "    self.hp+=self.level-1\n",
    "    self.damage+=(0.5*(self.level-1))\n",
    "  \n",
    "  def show_unit_info(self): #유닛 정보 출력\n",
    "    print(f\"이름 : {self.name} 직업 : {self.job} 레벨 : {self.level}, 체력 : {self.hp}, 데미지 :{self.damage}\")\n",
    "    \n",
    "     \n",
    "class player(client,unit): #플레이어 정보 - 클라이언트와 유닛 둘다 포함\n",
    "    \n",
    "  def __init__(self,id,pw,name,job,hp,damage):\n",
    "    self.money=0 # 플레이어 초기 자금 0원\n",
    "    self.level=1 #플레이어 초기 레벨 1\n",
    "    client.__init__(self,id,pw)\n",
    "    unit.__init__(self,name,job,hp,damage,self.level)\n",
    "  \n",
    "  def level_up(self): #몬스터는 레벨업 필요없으니까 player의 요소\n",
    "    self.level+=1 #레벨+1\n",
    "    self.hp=self.max_hp+1 #체력을 전부 회복하고 +1\n",
    "    self.max_hp=self.hp\n",
    "    self.damage+=0.5 # 공격력 +0.5\n",
    "    print(f\"{self.name}님이 레벨 {self.level}로 레벨 업 했습니다!\\n 체력 : {self.hp}, 데미지 : {self.damage}\")\n",
    "    \n",
    "  def battle_pve(self,enemy: 'monster'): #파라미터로 상대의 인스턴스 받음\n",
    "    attack_sequence=[0,1] #전투 순서 결정\n",
    "    count_turn=1 #턴 세는 거\n",
    "    drop_money=0\n",
    "    print(f\"{self.name}님과 {enemy.name}과의 전투를 시작합니다.\")\n",
    "    random.shuffle(attack_sequence) #선공은 랜덤하게 결정\n",
    "    \n",
    "    flag=attack_sequence[0]\n",
    "    while(self.hp>0 and enemy.hp>0): #누군가의 피가 0이 될때\n",
    "      print(f\"[{count_turn}번째 턴 입니다.]\",end=' ')\n",
    "      if (flag&1): #홀수 턴 - 상대방 공격\n",
    "        print(f\"몬스터 {enemy.name}의 턴, {enemy.damage}의 데미지로 공격\",end=' : ')\n",
    "        self.hp-=enemy.damage\n",
    "        print(f\"{self.name}의 체력 :{self.hp} / 몬스터 {enemy.name}의 체력 {enemy.hp}\")\n",
    "        \n",
    "      else:#짝수 턴 - 플레이어 공격\n",
    "        print(f\"{self.name}님의 턴, {self.damage}의 데미지로 공격\",end=' : ')\n",
    "        enemy.hp-=self.damage\n",
    "        print(f\"{self.name}의 체력 :{self.hp} / 몬스터{enemy.name}의 체력 {enemy.hp}\")\n",
    "        \n",
    "      count_turn+=1\n",
    "      flag+=1\n",
    "    if enemy.hp<=0:      # 플레이어의 승리\n",
    "      self.level_up() \n",
    "      print(f\"전투 종료, {self.name}님의 승리!\") #전투 승리시 레벨업\n",
    "      drop_money=random.randint(1,500)\n",
    "      self.money+=drop_money\n",
    "      print(f\"{drop_money}원이 드롭되었습니다. 현재 잔고 : {self.money} 원\")\n",
    "    else:\n",
    "      print(f\"전투 종료, {enemy.name}의 승리...캐릭터 사망\")\n",
    "  \n",
    "      \n",
    "  def upgrade(self,flag): #체력 이나 공격력 증가 \n",
    "    success=None\n",
    "    if self.money<500:\n",
    "      print(\"잔고 부족! 강화 최소비용은 500원 입니다.\")\n",
    "    else:\n",
    "      self.money-=500\n",
    "      success=random.randint(0,9)\n",
    "      if flag: #공격력\n",
    "        if success>2:\n",
    "          self.damage+=1\n",
    "          print(f\"강화 성공 ! damage가 {self.damage}로 증가.\")\n",
    "      else: #체력\n",
    "        if success>2:\n",
    "          self.max_hp+=1\n",
    "          self.hp+=1\n",
    "          print(f\"강화 성공 ! hp가 {self.hp}로 증가.\")\n",
    "\n",
    "    self.show_unit_info()\n",
    "    print(f\"현재 잔고 : {self.money} 원\")        \n",
    "    \n",
    "      \n",
    "class monster(unit): # 몬스터 정보 - 유닛정보만 포함\n",
    "  def __init__(self,name, hp, damage,level):\n",
    "    self.job='monster'\n",
    "    super().__init__(name,self.job,hp, damage,level)\n",
    "    \n",
    "class Store(): # 상점\n",
    "  def __init__(self):\n",
    "    pass\n",
    "  def decision(self,customer:player):\n",
    "    path=input(\"어떤 작업을 수행하시겠습니까? 0: 강화 , 1: 아이템 구매, 2: 스킬 구매\")\n",
    "    if path=='0':\n",
    "      1\n",
    "    elif path=='1':\n",
    "      1\n",
    "    elif path=='2':\n",
    "      1\n",
    "    else:    1\n",
    "  \n",
    "  def upgrade(self,flag): #체력 이나 공격력 증가 \n",
    "    success=None\n",
    "    if self.customer<500:\n",
    "      print(\"잔고 부족! 강화 최소비용은 500원 입니다.\")\n",
    "    else:\n",
    "      self.money-=500\n",
    "      success=random.randint(0,9)\n",
    "      if flag: #공격력\n",
    "        if success>2:\n",
    "          self.damage+=1\n",
    "          print(f\"강화 성공 ! damage가 {self.damage}로 증가.\")\n",
    "      else: #체력\n",
    "        if success>2:\n",
    "          self.max_hp+=1\n",
    "          self.hp+=1\n",
    "          print(f\"강화 성공 ! hp가 {self.hp}로 증가.\")\n",
    "\n",
    "    self.show_unit_info()\n",
    "    print(f\"현재 잔고 : {self.money} 원\")     \n",
    "      \n",
    "\n",
    "player_1=player('lms','1234','kevin',0,20,5)\n",
    "monster_1=monster('lion',15,3,1)\n",
    "monster_2=monster('dragon',20,4,2)\n",
    "player_1.setting_unit()\n",
    "monster_1.setting_unit()\n",
    "monster_2.setting_unit()\n",
    "\n",
    "player_1.battle_pve(monster_1)\n",
    "player_1.battle_pve(monster_2)\n",
    "player_1.show_unit_info()\n",
    "player_1.upgrade(0)\n",
    "\n",
    "goto_store=Store()\n"
   ]
  },
  {
   "cell_type": "code",
   "execution_count": 1,
   "metadata": {},
   "outputs": [
    {
     "ename": "TypeError",
     "evalue": "add() missing 1 required positional argument: 'c'",
     "output_type": "error",
     "traceback": [
      "\u001b[1;31m---------------------------------------------------------------------------\u001b[0m",
      "\u001b[1;31mTypeError\u001b[0m                                 Traceback (most recent call last)",
      "Cell \u001b[1;32mIn[1], line 2\u001b[0m\n\u001b[0;32m      1\u001b[0m \u001b[38;5;28;01mimport\u001b[39;00m \u001b[38;5;21;01mmycalc\u001b[39;00m\n\u001b[1;32m----> 2\u001b[0m \u001b[38;5;28mprint\u001b[39m(mycalc\u001b[38;5;241m.\u001b[39madd(\u001b[38;5;241m2\u001b[39m,\u001b[38;5;241m3\u001b[39m))\n",
      "\u001b[1;31mTypeError\u001b[0m: add() missing 1 required positional argument: 'c'"
     ]
    }
   ],
   "source": [
    "import mycalc\n",
    "print(mycalc.add(2,3))\n",
    "# 캐시 쌓인거는 restart 로 해결"
   ]
  },
  {
   "cell_type": "code",
   "execution_count": 47,
   "metadata": {},
   "outputs": [
    {
     "name": "stdout",
     "output_type": "stream",
     "text": [
      "[52, 72, 85, 90]\n"
     ]
    }
   ],
   "source": [
    "import random\n",
    "\n",
    "random_list=[]\n",
    "for _ in range(4):\n",
    "  random_list.append(random.randint(1,100))\n",
    "random_list.sort()\n",
    "print(random_list)\n",
    "  \n",
    "  "
   ]
  },
  {
   "cell_type": "code",
   "execution_count": 4,
   "metadata": {},
   "outputs": [
    {
     "name": "stdout",
     "output_type": "stream",
     "text": [
      "땡!\n",
      "땡!\n",
      "땡!\n",
      "땡!\n",
      "땡!\n",
      "땡!\n",
      "땡!\n",
      "땡!\n",
      "맞췄습니다. 정답은 9입니다\n"
     ]
    }
   ],
   "source": [
    "import random\n",
    "\n",
    "correct_answer=random.randint(1,10)\n",
    "while (1):\n",
    "  user_answer=int(input(\"숫자를 맞춰보세요.\"))\n",
    "  if user_answer==correct_answer:\n",
    "    print(f\"맞췄습니다. 정답은 {correct_answer}입니다\")\n",
    "    break\n",
    "  else: print(\"땡!\")"
   ]
  },
  {
   "cell_type": "code",
   "execution_count": 49,
   "metadata": {},
   "outputs": [
    {
     "name": "stdout",
     "output_type": "stream",
     "text": [
      "[28, 5, 16, 6, 33, 42]\n"
     ]
    }
   ],
   "source": [
    "import random\n",
    "\n",
    "lotto_list=[]\n",
    "\n",
    "while(len(lotto_list)<6):\n",
    "  lotto_number=random.randint(1,45)\n",
    "  if lotto_number not in lotto_list:\n",
    "    lotto_list.append(lotto_number)\n",
    "    \n",
    "# 셋 - 중복허용 X\n",
    "  \n",
    "print(lotto_list)\n",
    "  \n",
    "  "
   ]
  },
  {
   "cell_type": "code",
   "execution_count": 57,
   "metadata": {},
   "outputs": [
    {
     "name": "stdout",
     "output_type": "stream",
     "text": [
      "{34, 38, 10, 13, 22, 30}\n"
     ]
    }
   ],
   "source": [
    "import random\n",
    "\n",
    "lotto_list=set()\n",
    "\n",
    "while(len(lotto_list)<6):\n",
    "  lotto_list.add(random.randint(1,45))\n",
    "    \n",
    "# 셋 - 중복허용 X\n",
    "  \n",
    "print(lotto_list)\n",
    "  \n",
    "  "
   ]
  },
  {
   "cell_type": "code",
   "execution_count": 1,
   "metadata": {},
   "outputs": [
    {
     "data": {
      "text/plain": [
       "0.44999999999999996"
      ]
     },
     "execution_count": 1,
     "metadata": {},
     "output_type": "execute_result"
    }
   ],
   "source": [
    "#숙제 1+1 5+5 \n",
    "#com - binary \n",
    "# 정수 / 소수 표현 방식 다름 keyword - 부동소수점 ?!?!\n",
    "a=0.15 \n",
    "b=0.3\n",
    "a+b"
   ]
  },
  {
   "cell_type": "markdown",
   "metadata": {},
   "source": [
    "cpu한번에 처리할수 있는 용량 : 32bit 기준\n",
    "\n",
    "8bit -> 2^8 (숫자 표현 갯수)\n",
    "\n",
    "\n",
    "int  4byte - 32bit   / 1 byte = 8 bits \n",
    "float 4byte - 32bit\n",
    "\n",
    "정수 :  \n",
    "소수 :"
   ]
  }
 ],
 "metadata": {
  "kernelspec": {
   "display_name": "base",
   "language": "python",
   "name": "python3"
  },
  "language_info": {
   "codemirror_mode": {
    "name": "ipython",
    "version": 3
   },
   "file_extension": ".py",
   "mimetype": "text/x-python",
   "name": "python",
   "nbconvert_exporter": "python",
   "pygments_lexer": "ipython3",
   "version": "3.11.5"
  }
 },
 "nbformat": 4,
 "nbformat_minor": 2
}
