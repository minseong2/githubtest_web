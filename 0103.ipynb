{
 "cells": [
  {
   "cell_type": "code",
   "execution_count": 10,
   "metadata": {},
   "outputs": [
    {
     "name": "stdout",
     "output_type": "stream",
     "text": [
      "1\n",
      "13\n",
      "132\n"
     ]
    }
   ],
   "source": [
    "list_ =list(\"132\")\n",
    "\n",
    "tuple_={1,2,3}\n",
    "\n",
    "mystr=\"\"\n",
    "i=0\n",
    "\n",
    "for i in list_:  #list 내에서 변수 바뀐다 ex) i[0]=list_[0], \n",
    "  mystr=mystr+i\n",
    "  \n",
    "  print(mystr)"
   ]
  },
  {
   "cell_type": "code",
   "execution_count": 15,
   "metadata": {},
   "outputs": [
    {
     "name": "stdout",
     "output_type": "stream",
     "text": [
      "3 4 5 6 7 8 9 "
     ]
    }
   ],
   "source": [
    "type(range(10))\n",
    "\n",
    "for i in range(3,10): # A이상 B미만\n",
    "  print(i,end=\" \")\n",
    "  \n",
    "\n",
    "\n"
   ]
  },
  {
   "cell_type": "code",
   "execution_count": 44,
   "metadata": {},
   "outputs": [
    {
     "name": "stdout",
     "output_type": "stream",
     "text": [
      "9\n"
     ]
    }
   ],
   "source": [
    "# 실습 1\n",
    "\n",
    "input_=int(input(\"정수를 입력하세요\"))\n",
    "\n",
    "sum=0\n",
    "for i in range(1,input_+1,2): #생각해보기 시작이 1인경우 해결.. 0인경우 0 2 4 8 로 가는 짝수경우인듯\n",
    "  sum=sum+i\n",
    "\n",
    "print(sum)\n",
    "\n",
    "#비트 연산자 & i=15 = 00010010  홀수라면 2^0 이 1으로 끝남\n",
    "#                 1= 00000001  1은 무조건 2^0 제외 0, 2^0 은 1 >>2^0 자릿수 비트 계산시 1이 무조건 성립\n",
    "#                 >>둘이 비트연산해서 1이면 홀, 0이면 짝  \n",
    "#                 >>> if문 내 1이면 true , 0이면 false\n",
    "#(어셈블리어에서 빠르다) - 속도 절감에 용이하다 홀짝은 이걸로 하기\n",
    "\n",
    "if (i&1):\n",
    "  sum+=1\n",
    "  "
   ]
  },
  {
   "cell_type": "code",
   "execution_count": 50,
   "metadata": {},
   "outputs": [
    {
     "name": "stdout",
     "output_type": "stream",
     "text": [
      "5 4 3 2 1 발사!!\n"
     ]
    }
   ],
   "source": [
    "#실습 2\n",
    "\n",
    "time=int(input(\"몇 초?:\"))\n",
    "\n",
    "for i in range(time,0,-1):\n",
    "  print(i,end=\" \")\n",
    "print(\"발사!!\")"
   ]
  },
  {
   "cell_type": "code",
   "execution_count": 54,
   "metadata": {},
   "outputs": [
    {
     "name": "stdout",
     "output_type": "stream",
     "text": [
      "3 * 1 = 3\n",
      "3 * 2 = 6\n",
      "3 * 3 = 9\n",
      "3 * 4 = 12\n",
      "3 * 5 = 15\n",
      "3 * 6 = 18\n",
      "3 * 7 = 21\n",
      "3 * 8 = 24\n",
      "3 * 9 = 27\n"
     ]
    }
   ],
   "source": [
    "#실습 3 \n",
    "\n",
    "input_num=int(input(\"몇 단을 출력할까요?\"))\n",
    "\n",
    "for i in range(1,10):\n",
    "  print(f\"{input_num} * {i} = {input_num*i}\")\n",
    "  \n",
    "# for _ in range(10): 변수가 필요없는 경우 _(언더바로 대체)\n"
   ]
  },
  {
   "cell_type": "code",
   "execution_count": 58,
   "metadata": {},
   "outputs": [
    {
     "name": "stdout",
     "output_type": "stream",
     "text": [
      "1 * 1 = 1\n",
      "1 * 2 = 2\n",
      "1 * 3 = 3\n",
      "1 * 4 = 4\n",
      "1 * 5 = 5\n",
      "1 * 6 = 6\n",
      "1 * 7 = 7\n",
      "1 * 8 = 8\n",
      "1 * 9 = 9\n",
      "\n",
      "2 * 1 = 2\n",
      "2 * 2 = 4\n",
      "2 * 3 = 6\n",
      "2 * 4 = 8\n",
      "2 * 5 = 10\n",
      "2 * 6 = 12\n",
      "2 * 7 = 14\n",
      "2 * 8 = 16\n",
      "2 * 9 = 18\n",
      "\n",
      "3 * 1 = 3\n",
      "3 * 2 = 6\n",
      "3 * 3 = 9\n",
      "3 * 4 = 12\n",
      "3 * 5 = 15\n",
      "3 * 6 = 18\n",
      "3 * 7 = 21\n",
      "3 * 8 = 24\n",
      "3 * 9 = 27\n",
      "\n",
      "4 * 1 = 4\n",
      "4 * 2 = 8\n",
      "4 * 3 = 12\n",
      "4 * 4 = 16\n",
      "4 * 5 = 20\n",
      "4 * 6 = 24\n",
      "4 * 7 = 28\n",
      "4 * 8 = 32\n",
      "4 * 9 = 36\n",
      "\n",
      "5 * 1 = 5\n",
      "5 * 2 = 10\n",
      "5 * 3 = 15\n",
      "5 * 4 = 20\n",
      "5 * 5 = 25\n",
      "5 * 6 = 30\n",
      "5 * 7 = 35\n",
      "5 * 8 = 40\n",
      "5 * 9 = 45\n",
      "\n",
      "6 * 1 = 6\n",
      "6 * 2 = 12\n",
      "6 * 3 = 18\n",
      "6 * 4 = 24\n",
      "6 * 5 = 30\n",
      "6 * 6 = 36\n",
      "6 * 7 = 42\n",
      "6 * 8 = 48\n",
      "6 * 9 = 54\n",
      "\n",
      "7 * 1 = 7\n",
      "7 * 2 = 14\n",
      "7 * 3 = 21\n",
      "7 * 4 = 28\n",
      "7 * 5 = 35\n",
      "7 * 6 = 42\n",
      "7 * 7 = 49\n",
      "7 * 8 = 56\n",
      "7 * 9 = 63\n",
      "\n",
      "8 * 1 = 8\n",
      "8 * 2 = 16\n",
      "8 * 3 = 24\n",
      "8 * 4 = 32\n",
      "8 * 5 = 40\n",
      "8 * 6 = 48\n",
      "8 * 7 = 56\n",
      "8 * 8 = 64\n",
      "8 * 9 = 72\n",
      "\n",
      "9 * 1 = 9\n",
      "9 * 2 = 18\n",
      "9 * 3 = 27\n",
      "9 * 4 = 36\n",
      "9 * 5 = 45\n",
      "9 * 6 = 54\n",
      "9 * 7 = 63\n",
      "9 * 8 = 72\n",
      "9 * 9 = 81\n",
      "\n"
     ]
    }
   ],
   "source": [
    "for y in range(1,10):\n",
    "  for x in range(1,10):\n",
    "    print(f\"{y} * {x} = {x*y}\")  \n",
    "  print()\n",
    "  \n",
    "  \n"
   ]
  },
  {
   "cell_type": "code",
   "execution_count": 1,
   "metadata": {},
   "outputs": [],
   "source": [
    "while 0:\n",
    "  lunch=input(\"뭐먹을래?\")\n",
    "  print(lunch)"
   ]
  },
  {
   "cell_type": "code",
   "execution_count": 8,
   "metadata": {},
   "outputs": [
    {
     "name": "stdout",
     "output_type": "stream",
     "text": [
      "*\n",
      "**\n",
      "***\n",
      "****\n",
      "*****\n"
     ]
    }
   ],
   "source": [
    "#실습 4\n",
    "\n",
    "input_=int(input(\"별 몇줄 만들까요?\"))\n",
    "\n",
    "for i in range(1,input_+1):\n",
    "  for p in range(i):\n",
    "    print(\"*\",end=\"\")\n",
    "  p=0\n",
    "  print()\n"
   ]
  },
  {
   "cell_type": "code",
   "execution_count": 1,
   "metadata": {},
   "outputs": [
    {
     "name": "stdout",
     "output_type": "stream",
     "text": [
      "*\n",
      "**\n",
      "***\n",
      "****\n",
      "*****\n",
      "     *\n",
      "    **\n",
      "   ***\n",
      "  ****\n",
      " *****\n",
      "     *\n",
      "    ***\n",
      "   *****\n",
      "  *******\n",
      " *********\n"
     ]
    }
   ],
   "source": [
    "#1번)\n",
    "line = int(input(\"몇 줄?\"))\n",
    "i=1\n",
    "while (i <= line):\n",
    "  print(\"*\"*i)\n",
    "  i = i+1\n",
    "#2번)\n",
    "line = int(input(\"몇 줄?\"))\n",
    "i=1\n",
    "while (i<=line):\n",
    "  a=line-i\n",
    "  print(\" \"*a,\"*\"*i)\n",
    "  i = i+1\n",
    "#3번)\n",
    "line = int(input(\"몇 줄?\"))\n",
    "i=1\n",
    "while (i<=line):\n",
    "  a=line-i\n",
    "  b=2*i-1\n",
    "  print(\" \"*a,\"*\"*b)\n",
    "  i = i+1"
   ]
  },
  {
   "cell_type": "code",
   "execution_count": 43,
   "metadata": {},
   "outputs": [
    {
     "name": "stdout",
     "output_type": "stream",
     "text": [
      "['10', '20', '30', '40', '50']\n",
      "가장 큰 값 : 50\n",
      "가장 작은 값 : 10\n",
      "나머지 값의 평균 : 30.0\n"
     ]
    }
   ],
   "source": [
    "list_=input(\"숫자를 입력하세요\")\n",
    "\n",
    "list_=list_.split()\n",
    "\n",
    "print(list_)\n",
    "find_max=max(list_)\n",
    "print(f\"가장 큰 값 : {find_max}\")\n",
    "find_min=min(list_)\n",
    "print(f\"가장 작은 값 : {find_min}\")\n",
    "\n",
    "list_.remove(find_max)\n",
    "list_.remove(find_min)\n",
    "\n",
    "\n",
    "\n",
    "length=len(list_)\n",
    "sum=0\n",
    "\n",
    "for i in list_:\n",
    "  sum=sum+int(i)\n",
    "\n",
    "average=sum/length\n",
    "print(f\"나머지 값의 평균 : {average}\")"
   ]
  },
  {
   "cell_type": "code",
   "execution_count": 51,
   "metadata": {},
   "outputs": [
    {
     "ename": "TypeError",
     "evalue": "'int' object is not iterable",
     "output_type": "error",
     "traceback": [
      "\u001b[1;31m---------------------------------------------------------------------------\u001b[0m",
      "\u001b[1;31mTypeError\u001b[0m                                 Traceback (most recent call last)",
      "Cell \u001b[1;32mIn[51], line 2\u001b[0m\n\u001b[0;32m      1\u001b[0m \u001b[38;5;28mmap\u001b[39m(\u001b[38;5;28mint\u001b[39m,[\u001b[38;5;124m'\u001b[39m\u001b[38;5;124m10\u001b[39m\u001b[38;5;124m'\u001b[39m,\u001b[38;5;124m'\u001b[39m\u001b[38;5;124m20\u001b[39m\u001b[38;5;124m'\u001b[39m,\u001b[38;5;124m'\u001b[39m\u001b[38;5;124m30\u001b[39m\u001b[38;5;124m'\u001b[39m,\u001b[38;5;124m'\u001b[39m\u001b[38;5;124m40\u001b[39m\u001b[38;5;124m'\u001b[39m]) \u001b[38;5;66;03m#반복해서 분배법칙 하듯이 map(a,b) a를 b에 적용 //대응시킨다\u001b[39;00m\n\u001b[1;32m----> 2\u001b[0m \u001b[38;5;28mtype\u001b[39m(\u001b[38;5;28mmap\u001b[39m(\u001b[38;5;28mint\u001b[39m,\u001b[38;5;241m2\u001b[39m))\n",
      "\u001b[1;31mTypeError\u001b[0m: 'int' object is not iterable"
     ]
    }
   ],
   "source": [
    "map(int,['10','20','30','40']) #반복해서 분배법칙 하듯이 map(a,b) a를 b에 적용 //대응시킨다\n"
   ]
  },
  {
   "cell_type": "code",
   "execution_count": 48,
   "metadata": {},
   "outputs": [
    {
     "name": "stdout",
     "output_type": "stream",
     "text": [
      "[10.0, 20.0, 30.0]\n"
     ]
    }
   ],
   "source": [
    "a=['10','20','30']\n",
    "a=list(map(float,a))\n",
    "print(a)"
   ]
  },
  {
   "cell_type": "code",
   "execution_count": 120,
   "metadata": {},
   "outputs": [
    {
     "name": "stdout",
     "output_type": "stream",
     "text": [
      "7\n"
     ]
    }
   ],
   "source": [
    "list_origin=input(\"n과 m, 그리고 문자열, 각 개체의 구분은 space bar를 눌러 구분\")\n",
    "\n",
    "list_origin=list_origin.split() # 입력을 split 함\n",
    "\n",
    "N=int(list_origin[0]) # N과 M을 변수에 저장\n",
    "M=int(list_origin[1])\n",
    "\n",
    "S=[] # 집합 S를 리스트로 선언\n",
    "\n",
    "for n in range(N): # n개만큼의 문자열을 원본 리스트에서 S로 저장\n",
    "  S.append(list_origin[n+2])\n",
    "\n",
    "result_=0 # 정답 넣을 곳\n",
    "\n",
    "for m in range(M): # M개의 문자열만큼 반복\n",
    "  for n in range(N): #S[n]을 훑기\n",
    "    if list_origin[m]==S[n]: #원본중에 s와 같은게 있다면 \n",
    "      result_+=1 #결과+1\n",
    "      \n",
    "print(result_)"
   ]
  },
  {
   "cell_type": "code",
   "execution_count": 68,
   "metadata": {},
   "outputs": [
    {
     "name": "stdout",
     "output_type": "stream",
     "text": [
      "[1, 2, 3]\n",
      "[1, 3]\n",
      "[2]\n"
     ]
    }
   ],
   "source": [
    "a=int(input(\"정수 입력\"))\n",
    "\n",
    "list_1=[]\n",
    "for i in range(0,a):\n",
    "  list_1.append(i+1)\n",
    "  \n",
    "print(list_1)\n",
    "\n",
    "odd=list_1[::2]\n",
    "even=list_1[1::2]\n",
    "print(odd)\n",
    "print(even)\n",
    "\n",
    "\n"
   ]
  },
  {
   "cell_type": "code",
   "execution_count": 82,
   "metadata": {},
   "outputs": [
    {
     "name": "stdout",
     "output_type": "stream",
     "text": [
      "=======================RESTART\n",
      "마시고 싶은 음료?\n",
      "생는 지금 없네요\n"
     ]
    }
   ],
   "source": [
    "vending_machine=['게토레이','레쓰비','생수','이프로']\n",
    "\n",
    "print(\"=======================RESTART\")\n",
    "drink=input(print(\"마시고 싶은 음료?\"))\n",
    "\n",
    "\n",
    "if drink in vending_machine:\n",
    "  print(f\"{drink} 드릴게요\")\n",
    "else:\n",
    "  print(f\"{drink}는 지금 없네요\")\n"
   ]
  },
  {
   "cell_type": "code",
   "execution_count": 91,
   "metadata": {},
   "outputs": [
    {
     "name": "stdout",
     "output_type": "stream",
     "text": [
      "['게토레이', '게토레이', '레쓰비', '이프로', '레쓰비', '생수', '생수']\n"
     ]
    }
   ],
   "source": [
    "vending_machine=['게토레이','게토레이','레쓰비','생수','이프로','레쓰비','생수','생수']\n",
    "\n",
    "user=int(input(\"소비자이면 1, 자판기 주인인 경우 0을 눌러주세요\"))\n",
    "\n",
    "if (user&1): #소비자\n",
    "  order=input(\"마시고 싶은 음료를 입력하세요\")\n",
    "  if order in vending_machine:\n",
    "    vending_machine.remove(order)\n",
    "    print(f\"{order} 드릴게요\")\n",
    "  else :\n",
    "    print(f\"{order}는 지금 없습니다.\")\n",
    "  \n",
    "else :\n",
    "  master=int(input(\"추가하시고 싶으면 1, 삭제하시고 싶으시면 0을 눌러주세요\")) # 자판기 주인\n",
    "\n",
    "  if (master&1): #음료 추가\n",
    "    add=input(\"추가할 음료수를 적어주세요\")\n",
    "    vending_machine.append(add) #음료 추가\n",
    "    vending_machine.sort() #정렬?\n",
    "    print(vending_machine)\n",
    "  else : #음료 삭제\n",
    "    delete=input(\"삭제할 음료수를 적어주세요\")\n",
    "    if delete in vending_machine: #존재하면\n",
    "      vending_machine.remove(delete)\n",
    "      print(vending_machine)\n",
    "\n",
    "    else:\n",
    "      print(f\"{delete}는 지금 없습니다.\")\n",
    "\n"
   ]
  },
  {
   "cell_type": "code",
   "execution_count": 106,
   "metadata": {},
   "outputs": [
    {
     "name": "stdout",
     "output_type": "stream",
     "text": [
      "['게토레이', '게토레이', '레쓰비', '레쓰비', '생수', '생수', '생수', '이프로', '자몽']\n"
     ]
    }
   ],
   "source": [
    "vending_machine=['게토레이','게토레이','레쓰비','생수','이프로','레쓰비','생수','생수']\n",
    "\n",
    "user=2 #0과 1이 아닌걸로 초기화\n",
    "\n",
    "user=int(input(\"소비자이면 1, 자판기 주인인 경우 0을 눌러주세요\"))\n",
    "\n",
    "while (user!=0)&(user!=1):\n",
    " user=int(input(\"1과 0 중 다시입력해주세요\"))\n",
    "\n",
    "\n",
    "if (user&1): #소비자\n",
    "  order=input(\"마시고 싶은 음료를 입력하세요\")\n",
    "  if order in vending_machine:\n",
    "    vending_machine.remove(order)\n",
    "    print(f\"{order} 드릴게요\")\n",
    "  else :\n",
    "    print(f\"{order}는 지금 없습니다.\")\n",
    "  \n",
    "else :\n",
    "  master=int(input(\"추가하시고 싶으면 1, 삭제하시고 싶으시면 0을 눌러주세요\")) # 자판기 주인\n",
    "\n",
    "\n",
    "  while (master!=0)&(master!=1):\n",
    "    master=int(input(\"1과 0 중 다시입력해주세요\"))\n",
    "\n",
    "\n",
    "  if (master&1): #음료 추가\n",
    "    add=input(\"추가할 음료수를 적어주세요\")\n",
    "    vending_machine.append(add) #음료 추가\n",
    "    vending_machine.sort() #정렬?\n",
    "    print(vending_machine)\n",
    "  else : #음료 삭제\n",
    "    delete=input(\"삭제할 음료수를 적어주세요\")\n",
    "    if delete in vending_machine: #존재하면\n",
    "      vending_machine.remove(delete)\n",
    "      print(vending_machine)\n",
    "\n",
    "    else:\n",
    "      print(f\"{delete}는 지금 없습니다.\")\n",
    "\n"
   ]
  },
  {
   "cell_type": "code",
   "execution_count": 109,
   "metadata": {},
   "outputs": [
    {
     "name": "stdout",
     "output_type": "stream",
     "text": [
      "[1, 2, 'fizz', 4, 'buzz', 'fizz', 7, 8, 'fizz', 'buzz', 11, 'fizz', 13, 14, 'fizzbuzz']\n"
     ]
    }
   ],
   "source": [
    "input_integer=int(input(\"숫자 입력\"))\n",
    "\n",
    "list_input=[]\n",
    "for i in range(1,input_integer+1):\n",
    "  \n",
    "  if (i%3==0): #3가능  not i%3 이라고 써도 됩니다.\n",
    "    if (i%5==0): #5가능\n",
    "      list_input.append(\"fizzbuzz\")\n",
    "    else :   #3가능 5불가능   \n",
    "      list_input.append(\"fizz\")\n",
    "  elif (i%5==0):#3불 5가\n",
    "    list_input.append(\"buzz\")\n",
    "  else :#둘다 불가\n",
    "    list_input.append(i)\n",
    "\n",
    "print(list_input)\n",
    "\n"
   ]
  },
  {
   "cell_type": "code",
   "execution_count": null,
   "metadata": {},
   "outputs": [],
   "source": []
  }
 ],
 "metadata": {
  "kernelspec": {
   "display_name": "base",
   "language": "python",
   "name": "python3"
  },
  "language_info": {
   "codemirror_mode": {
    "name": "ipython",
    "version": 3
   },
   "file_extension": ".py",
   "mimetype": "text/x-python",
   "name": "python",
   "nbconvert_exporter": "python",
   "pygments_lexer": "ipython3",
   "version": "3.11.5"
  }
 },
 "nbformat": 4,
 "nbformat_minor": 2
}
