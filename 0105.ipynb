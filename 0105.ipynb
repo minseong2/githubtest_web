{
 "cells": [
  {
   "cell_type": "markdown",
   "metadata": {},
   "source": [
    "# list -> 반복 가능 순서 있고 수정 가능 method = .append() .remove() \n",
    "\n",
    "  if mystr in a:\n",
    "    a.remove(mystr)\n",
    "  a.insert(,)\n",
    "\n",
    "str. ->  a.replace(\"a\",\"b\",1) 몇번바꾸지 / a.split()\n",
    "int. \n",
    "dict.\n",
    "tuple. ('a','b') \n",
    "map.(float,'반복가능한 무언가')\n",
    "set.\n"
   ]
  },
  {
   "cell_type": "code",
   "execution_count": null,
   "metadata": {},
   "outputs": [],
   "source": [
    "str.strip() # str의 복사본 반환 -> leading/traling(맨앞뒤) 쪽 공백 삭제한 후 , 문자가 주어지면 그 문자를 공백 대신 삭제"
   ]
  },
  {
   "cell_type": "code",
   "execution_count": 39,
   "metadata": {},
   "outputs": [
    {
     "data": {
      "text/plain": [
       "2"
      ]
     },
     "execution_count": 39,
     "metadata": {},
     "output_type": "execute_result"
    }
   ],
   "source": [
    "def zerocount(str):\n",
    "  count = 0\n",
    "  for i in range(len(str)): # str의 길이만큼 반복 \n",
    "    if str[i] == '0': # 현재 칸이 0 이면 count +1\n",
    "      count += 1\n",
    "    else: #아니면 (다른 숫자가 나올 경우) return\n",
    "      return count\n",
    "zerocount('001000004510203')"
   ]
  },
  {
   "cell_type": "code",
   "execution_count": 89,
   "metadata": {},
   "outputs": [
    {
     "name": "stdout",
     "output_type": "stream",
     "text": [
      "5\n"
     ]
    }
   ],
   "source": [
    "mystr='1020300050600200000'\n",
    "max_count = []\n",
    "\n",
    "def max_zerocount(str): #최다 반복 0의 갯수 출력\n",
    "  count=0\n",
    "  for i in range(len(str)): # str의 길이만큼 반복 \n",
    "    if str[i] == '0': # 현재 칸이 0 이면 count +1\n",
    "      count += 1\n",
    "    elif count!=0:  #0이 아닌 칸을 만나면\n",
    "      max_count.append(count) #지금까지 셋던거 리스트에 넣기\n",
    "      count=0 #count 초기화\n",
    "  max_count.append(count) #0으로 끝날경우 안더해져서 추가\n",
    "  \n",
    "  return max(max_count) # 최고값 반환\n",
    "\n",
    "print(max_zerocount(mystr))"
   ]
  },
  {
   "cell_type": "markdown",
   "metadata": {},
   "source": [
    "A = \"abc cc d effd\"\n",
    "c로 나누고\n",
    "뭔갈했는데,,\n",
    "컴프리핸션..\n"
   ]
  },
  {
   "cell_type": "code",
   "execution_count": 94,
   "metadata": {},
   "outputs": [
    {
     "name": "stdout",
     "output_type": "stream",
     "text": [
      "1\n"
     ]
    }
   ],
   "source": [
    "a,b=1,2\n",
    "q,w,e,r=[1,2,3,4]\n",
    "print(q)\n",
    "a,*b=[1,2,3,4]\n"
   ]
  },
  {
   "cell_type": "code",
   "execution_count": 98,
   "metadata": {},
   "outputs": [
    {
     "name": "stdout",
     "output_type": "stream",
     "text": [
      "[9, 16]\n"
     ]
    }
   ],
   "source": [
    "mylist=[1,2,3,4]\n",
    "\n",
    "newList = [item*item for item in mylist if item >= 3] \n",
    "print(newList)"
   ]
  },
  {
   "cell_type": "code",
   "execution_count": 102,
   "metadata": {},
   "outputs": [
    {
     "name": "stdout",
     "output_type": "stream",
     "text": [
      "heo word\n"
     ]
    }
   ],
   "source": [
    "mystr=\"hello world\"\n",
    "newstr=mystr.replace('l','')\n",
    "print(newstr)"
   ]
  },
  {
   "cell_type": "code",
   "execution_count": 105,
   "metadata": {},
   "outputs": [
    {
     "data": {
      "text/plain": [
       "27"
      ]
     },
     "execution_count": 105,
     "metadata": {},
     "output_type": "execute_result"
    }
   ],
   "source": [
    "3**3 # 제곱은 **2 세제곱은 ***3 "
   ]
  },
  {
   "cell_type": "code",
   "execution_count": 110,
   "metadata": {},
   "outputs": [
    {
     "data": {
      "text/plain": [
       "'heo word'"
      ]
     },
     "execution_count": 110,
     "metadata": {},
     "output_type": "execute_result"
    }
   ],
   "source": [
    "mystr=\"hello world\"\n",
    "B= [item for item in mystr if item!='l']\n",
    "\"\".join(B)"
   ]
  },
  {
   "cell_type": "code",
   "execution_count": 118,
   "metadata": {},
   "outputs": [
    {
     "data": {
      "text/plain": [
       "28.274328"
      ]
     },
     "execution_count": 118,
     "metadata": {},
     "output_type": "execute_result"
    }
   ],
   "source": [
    "#lambda 람다 함수의 축약형\n",
    "pi=3.141592\n",
    "circle=lambda r:(r**2)*pi\n",
    "\n",
    "circle(3)"
   ]
  },
  {
   "cell_type": "code",
   "execution_count": 136,
   "metadata": {},
   "outputs": [
    {
     "name": "stdout",
     "output_type": "stream",
     "text": [
      "[0, 1, -1, 2, 3]\n"
     ]
    }
   ],
   "source": [
    "x=[-1,0,1,2,3]\n",
    "FX=sorted(x,key=lambda a:((2*a**3)-(9*a**2)),reverse=1)\n",
    "print(FX)"
   ]
  },
  {
   "cell_type": "code",
   "execution_count": 154,
   "metadata": {},
   "outputs": [
    {
     "name": "stdout",
     "output_type": "stream",
     "text": [
      "dune\n",
      "180\n",
      "영화 제목은 dune 입니다.\n",
      "dune의 상영 시간은 180분 입니다.\n"
     ]
    }
   ],
   "source": [
    "class movie:\n",
    "  def __init__(self,name,time):\n",
    "    self.name=name\n",
    "    self.time=time\n",
    "    \n",
    "  def movie_name(self):\n",
    "    print(f\"영화 제목은 {self.name} 입니다.\")  \n",
    "\n",
    "  def running_time(self):\n",
    "    print(f\"{self.name}의 상영 시간은 {self.time}분 입니다.\")\n",
    "    \n",
    "m_dune=movie(\"dune\",180)\n",
    "print(m_dune.name)\n",
    "print(m_dune.time)\n",
    "m_dune.movie_name()\n",
    "m_dune.running_time()"
   ]
  },
  {
   "cell_type": "code",
   "execution_count": 175,
   "metadata": {},
   "outputs": [
    {
     "name": "stdout",
     "output_type": "stream",
     "text": [
      "30\n"
     ]
    }
   ],
   "source": [
    "class calculator:\n",
    "        \n",
    "  def add(self,a,b):\n",
    "    return print(a+b)\n",
    "  def sub(self,a,b):\n",
    "    return print(a-b)\n",
    "  def mul(self,a,b):\n",
    "    return print(a*b)\n",
    "  def div(self,a,b):\n",
    "    if b==0:\n",
    "      print(\"0으로 나눌수 없습니다.\")\n",
    "    else:\n",
    "      return print(a/b)\n",
    "  \n",
    "  def calc(self):\n",
    "    a,b=input(\"사칙연산을 시행할 두 수를 입력하세요\").split()\n",
    "    order=input(\"사칙연산 중 수행할 연산기호를 입력하시오.그 외 입력시 종료\")\n",
    "    self.num_1=int(a)\n",
    "    self.num_2=int(b)\n",
    "    if order == '+':\n",
    "      self.add(self.num_1,self.num_2)\n",
    "    elif order == '-':\n",
    "      self.sub(self.num_1,self.num_2)\n",
    "    elif order =='*':\n",
    "      self.mul(self.num_1,self.num_2)\n",
    "    elif order=='/':\n",
    "      self.div(self.num_1,self.num_2)\n",
    "\n",
    "\n",
    "question=calculator()\n",
    "question.calc()\n"
   ]
  },
  {
   "cell_type": "code",
   "execution_count": 180,
   "metadata": {},
   "outputs": [
    {
     "name": "stdout",
     "output_type": "stream",
     "text": [
      " cu의 위치는인천입니다.\n",
      " 우유로 파는 물건이 변경되었습니다.\n",
      " 현재 판매중인 상품은 우유입니다.\n",
      " 총 슈퍼마켓의 갯수는 1 개 입니다.\n",
      " 가게 이름은 cu이고 \n",
      " 가게 위치는 인천이고 \n",
      " 파는 물건은 우유이고 \n",
      " 손님 수는 3명 입니다.\n"
     ]
    }
   ],
   "source": [
    "class SuperMarket:\n",
    "  \n",
    "  super_count=0\n",
    "  def __init__(self,location:str,name:str,product:str,customer:int):\n",
    "    self.location=location \n",
    "    self.name=name\n",
    "    self.product=product\n",
    "    self.customer=customer\n",
    "    SuperMarket.super_count+=1\n",
    "  def print_location(self):\n",
    "    print(f\" {self.name}의 위치는 {self.location}입니다.\")\n",
    "    \n",
    "  def change_category(self,new_product:str):\n",
    "    self.product=new_product\n",
    "    print(f\" {self.product}로 파는 물건이 변경되었습니다.\")\n",
    "  def show_list(self):\n",
    "    print(f\" 현재 판매중인 상품은 {self.product}입니다.\")\n",
    "  def enter_customer(self):\n",
    "    self.customer+=1\n",
    "  def show_info(self):\n",
    "    print(f\" 가게 이름은 {self.name}이고 \\n 가게 위치는 {self.location}이고 \\n 파는 물건은 {self.product}이고 \\n 손님 수는 {self.customer}명 입니다.\")\n",
    "  def show_supermarket_count(self):\n",
    "    print(f\" 총 슈퍼마켓의 갯수는 {SuperMarket.super_count} 개 입니다.\")\n",
    "    \n",
    "store=SuperMarket(\"인천\",'cu','커피',2)\n",
    "store.print_location()\n",
    "store.change_category('우유')\n",
    "store.show_list()\n",
    "store.enter_customer()\n",
    "store.show_supermarket_count()\n",
    "store.show_info()"
   ]
  },
  {
   "cell_type": "code",
   "execution_count": null,
   "metadata": {},
   "outputs": [],
   "source": [
    "def fuction(parameter):\n",
    "  parameter+=1\n",
    "  return parameter\n",
    "\n",
    "class Class(): \n",
    "  def __init__(self):\n",
    "    pass\n",
    "  \n",
    "Instance=Class()\n"
   ]
  }
 ],
 "metadata": {
  "kernelspec": {
   "display_name": "base",
   "language": "python",
   "name": "python3"
  },
  "language_info": {
   "codemirror_mode": {
    "name": "ipython",
    "version": 3
   },
   "file_extension": ".py",
   "mimetype": "text/x-python",
   "name": "python",
   "nbconvert_exporter": "python",
   "pygments_lexer": "ipython3",
   "version": "3.11.5"
  }
 },
 "nbformat": 4,
 "nbformat_minor": 2
}
